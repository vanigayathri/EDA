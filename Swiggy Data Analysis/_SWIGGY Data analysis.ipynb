{
 "cells": [
  {
   "cell_type": "markdown",
   "id": "4afdb9a3",
   "metadata": {},
   "source": [
    "# Swiggy data analysis "
   ]
  },
  {
   "cell_type": "code",
   "execution_count": 1,
   "id": "f588a12e",
   "metadata": {},
   "outputs": [],
   "source": [
    "from bs4 import BeautifulSoup\n",
    "import requests\n",
    "import pandas as pd \n",
    "import csv\n",
    "import numpy as np\n",
    "import matplotlib.pyplot as plt\n",
    "import seaborn as sns\n",
    "import warnings\n",
    "warnings.filterwarnings('ignore')"
   ]
  },
  {
   "cell_type": "markdown",
   "id": "b8418798",
   "metadata": {},
   "source": [
    "url='https://www.swiggy.com/hyderabad/biryani-collection'"
   ]
  },
  {
   "cell_type": "markdown",
   "id": "147ae151",
   "metadata": {},
   "source": [
    "page = requests.get(url)\n",
    "content = page.content"
   ]
  },
  {
   "cell_type": "markdown",
   "id": "372122b1",
   "metadata": {},
   "source": [
    "soup = BeautifulSoup(content)"
   ]
  },
  {
   "cell_type": "markdown",
   "id": "727e188a",
   "metadata": {},
   "source": [
    "soup.prettify()"
   ]
  },
  {
   "cell_type": "markdown",
   "id": "d50d3ee5",
   "metadata": {},
   "source": [
    "# creating empty list for features.\n",
    "name=[]\n",
    "type_=[]\n",
    "rating = []\n",
    "time=[]\n",
    "amount =[]"
   ]
  },
  {
   "cell_type": "markdown",
   "id": "48a6a1c1",
   "metadata": {},
   "source": [
    "res_name = soup.find_all('div',class_=\"nA6kb\")"
   ]
  },
  {
   "cell_type": "markdown",
   "id": "27d21c42",
   "metadata": {},
   "source": [
    "for res_name in soup.find_all('div',class_ = \"nA6kb\"):\n",
    "    print(res_name.text)\n",
    "    name.append(res_name.text)"
   ]
  },
  {
   "cell_type": "markdown",
   "id": "920e3f1b",
   "metadata": {},
   "source": [
    "for res_time in soup.find_all('div',class_ = '_3Mn31'):\n",
    "    print(res_time.text)\n",
    "    time.append(res_time.text)"
   ]
  },
  {
   "cell_type": "markdown",
   "id": "5abf56ef",
   "metadata": {},
   "source": [
    "for res_amount in soup.find_all('div',class_ = \"nVWSi\"):\n",
    "    print(res_amount.text)\n",
    "    amount.append(res_amount.text)"
   ]
  },
  {
   "cell_type": "markdown",
   "id": "694db674",
   "metadata": {},
   "source": [
    "for i in soup.find_all('div',class_='_1gURR'):\n",
    "    type_.append(i.text)"
   ]
  },
  {
   "cell_type": "markdown",
   "id": "6cb2c979",
   "metadata": {},
   "source": [
    "len(rating)"
   ]
  },
  {
   "cell_type": "code",
   "execution_count": 2,
   "id": "2af3d527",
   "metadata": {},
   "outputs": [],
   "source": [
    "# creating empty list for features.\n",
    "name=[]\n",
    "type_=[]\n",
    "rating = []\n",
    "time=[]\n",
    "amount =[]\n",
    "for page in range(1,30):\n",
    "    url = 'https://www.swiggy.com/hyderabad?page={}'.format(page)\n",
    "    page = requests.get(url)\n",
    "    soup = BeautifulSoup(page.content)\n",
    "    for res_name in soup.find_all('div',class_ = \"nA6kb\"):\n",
    "        name.append(res_name.text)\n",
    "    for res_time in soup.find_all('div',class_ = '_3Mn31'):\n",
    "        time.append(res_time.text)\n",
    "    for i in soup.find_all('div',class_='_1gURR'):\n",
    "        type_.append(i.text)"
   ]
  },
  {
   "cell_type": "markdown",
   "id": "6ec7365d",
   "metadata": {},
   "source": [
    "# Biryani's"
   ]
  },
  {
   "cell_type": "code",
   "execution_count": 3,
   "id": "49f8d628",
   "metadata": {},
   "outputs": [],
   "source": [
    "d = {'Restaurant':name,\n",
    "    'Type':type_,\n",
    "    \n",
    "    'Time':time}"
   ]
  },
  {
   "cell_type": "code",
   "execution_count": 4,
   "id": "cf218ba0",
   "metadata": {},
   "outputs": [],
   "source": [
    "df= pd.DataFrame(d)"
   ]
  },
  {
   "cell_type": "code",
   "execution_count": 5,
   "id": "ee1ab5f6",
   "metadata": {},
   "outputs": [
    {
     "data": {
      "text/plain": [
       "464"
      ]
     },
     "execution_count": 5,
     "metadata": {},
     "output_type": "execute_result"
    }
   ],
   "source": [
    "len(type_)"
   ]
  },
  {
   "cell_type": "markdown",
   "id": "d24ebba0",
   "metadata": {},
   "source": [
    "df['type_of_restaurants'] = 'biryani_hotels'"
   ]
  },
  {
   "cell_type": "markdown",
   "id": "4e3edcdb",
   "metadata": {},
   "source": [
    "df['rating'] = df['Time'].apply(lambda x:x.split('•')[0])"
   ]
  },
  {
   "cell_type": "markdown",
   "id": "6f236099",
   "metadata": {},
   "source": [
    "df['price'] = df['Time'].apply(lambda x:x.split('•')[2])"
   ]
  },
  {
   "cell_type": "markdown",
   "id": "7da2fa2d",
   "metadata": {},
   "source": [
    "df['time'] = df['Time'].apply(lambda x:x.split('•')[1])"
   ]
  },
  {
   "cell_type": "markdown",
   "id": "edb07ca6",
   "metadata": {},
   "source": [
    "df['biryani_available'] = df['Type'].apply(lambda x: 'yes' if 'Biryani' in x else 'no')"
   ]
  },
  {
   "cell_type": "markdown",
   "id": "4e9fd8cd",
   "metadata": {},
   "source": [
    "# CSV IMPORT"
   ]
  },
  {
   "cell_type": "code",
   "execution_count": 6,
   "id": "b6bdd3c7",
   "metadata": {},
   "outputs": [],
   "source": [
    "df.to_csv('swiggy_biryani.csv')"
   ]
  },
  {
   "cell_type": "markdown",
   "id": "b28244f4",
   "metadata": {},
   "source": [
    "# North indian - cuisine"
   ]
  },
  {
   "cell_type": "markdown",
   "id": "2731a146",
   "metadata": {},
   "source": [
    "url = 'https://www.swiggy.com/hyderabad/north-indian-collection'"
   ]
  },
  {
   "cell_type": "markdown",
   "id": "f68889bd",
   "metadata": {},
   "source": [
    "page = requests.get(url)\n",
    "content = page.content"
   ]
  },
  {
   "cell_type": "markdown",
   "id": "e4056493",
   "metadata": {},
   "source": [
    "soup = BeautifulSoup(content)"
   ]
  },
  {
   "cell_type": "markdown",
   "id": "fed4a988",
   "metadata": {},
   "source": [
    "soup.prettify()"
   ]
  },
  {
   "cell_type": "markdown",
   "id": "28e77bc2",
   "metadata": {},
   "source": [
    "res_name = soup.find_all('div',class_='nA6kb')"
   ]
  },
  {
   "cell_type": "markdown",
   "id": "10afe9f1",
   "metadata": {},
   "source": [
    "for res_name in soup.find_all('div',class_ = \"nA6kb\"):\n",
    "    print(res_name.text)\n",
    "    name.append(res_name.text)"
   ]
  },
  {
   "cell_type": "markdown",
   "id": "d57d6164",
   "metadata": {},
   "source": [
    "for res_time in soup.find_all('div',class_ = '_3Mn31'):\n",
    "    print(res_time.text)\n",
    "    time.append(res_time.text)"
   ]
  },
  {
   "cell_type": "markdown",
   "id": "e1b65099",
   "metadata": {},
   "source": [
    "for res_amount in soup.find_all('div',class_ = \"nVWSi\"):\n",
    "    print(res_amount.text)\n",
    "    amount.append(res_amount.text)"
   ]
  },
  {
   "cell_type": "markdown",
   "id": "5a2baea6",
   "metadata": {},
   "source": [
    "for i in soup.find_all('div',class_='_1gURR'):\n",
    "    type_.append(i.text)"
   ]
  },
  {
   "cell_type": "code",
   "execution_count": 7,
   "id": "bd7ebe85",
   "metadata": {},
   "outputs": [],
   "source": [
    "# creating empty list of features.\n",
    "\n",
    "name=[]\n",
    "type_=[]\n",
    "rating = []\n",
    "time=[]\n",
    "amount =[]\n",
    "for page in range(1,30):\n",
    "    url = 'https://www.swiggy.com/hyderabad/north-indian-collection?page={}'.format(page)\n",
    "    page = requests.get(url)\n",
    "    soup = BeautifulSoup(page.content)\n",
    "    for res_name in soup.find_all('div',class_ = \"nA6kb\"):\n",
    "           name.append(res_name.text)\n",
    "    for res_time in soup.find_all('div',class_ = '_3Mn31'):\n",
    "            time.append(res_time.text)\n",
    "    for i in soup.find_all('div',class_='_1gURR'):\n",
    "            type_.append(i.text)"
   ]
  },
  {
   "cell_type": "code",
   "execution_count": 8,
   "id": "45d32d48",
   "metadata": {},
   "outputs": [],
   "source": [
    "d1 = {'Restaurant':name,\n",
    "    'Type':type_,\n",
    "      'Time':time}"
   ]
  },
  {
   "cell_type": "code",
   "execution_count": 9,
   "id": "cd89235b",
   "metadata": {},
   "outputs": [
    {
     "data": {
      "text/plain": [
       "0"
      ]
     },
     "execution_count": 9,
     "metadata": {},
     "output_type": "execute_result"
    }
   ],
   "source": [
    "len(rating)"
   ]
  },
  {
   "cell_type": "code",
   "execution_count": 10,
   "id": "95b99ae9",
   "metadata": {},
   "outputs": [],
   "source": [
    "df1 = pd.DataFrame(d1)"
   ]
  },
  {
   "cell_type": "markdown",
   "id": "5cb8b8c9",
   "metadata": {},
   "source": [
    "df1['type_of_restaurants'] = 'north_indian'"
   ]
  },
  {
   "cell_type": "markdown",
   "id": "96026f08",
   "metadata": {},
   "source": [
    "df1['rating'] = df1['Time'].apply(lambda x:x.split('•')[0])"
   ]
  },
  {
   "cell_type": "markdown",
   "id": "e4e88316",
   "metadata": {},
   "source": [
    "df1['price'] = df1['Time'].apply(lambda x:x.split('•')[2])"
   ]
  },
  {
   "cell_type": "markdown",
   "id": "99ccaced",
   "metadata": {},
   "source": [
    "df1['time'] = df1['Time'].apply(lambda x:x.split('•')[1])"
   ]
  },
  {
   "cell_type": "markdown",
   "id": "eedaccfe",
   "metadata": {},
   "source": [
    "df1['Chinese_available']= df1['Type'].apply(lambda x:'yes'if 'Chinese'in x else'no')"
   ]
  },
  {
   "cell_type": "markdown",
   "id": "b892138d",
   "metadata": {},
   "source": [
    "df1['Continental_available']= df1['Type'].apply(lambda x: 'yes' if 'Continental' in x else 'no')"
   ]
  },
  {
   "cell_type": "markdown",
   "id": "30020929",
   "metadata": {},
   "source": [
    "df1['Tandoor_available']=df1['Type'].apply(lambda x: 'yes' if 'Tandoor' in x else 'no' )"
   ]
  },
  {
   "cell_type": "code",
   "execution_count": 11,
   "id": "2350207c",
   "metadata": {},
   "outputs": [
    {
     "data": {
      "text/html": [
       "<div>\n",
       "<style scoped>\n",
       "    .dataframe tbody tr th:only-of-type {\n",
       "        vertical-align: middle;\n",
       "    }\n",
       "\n",
       "    .dataframe tbody tr th {\n",
       "        vertical-align: top;\n",
       "    }\n",
       "\n",
       "    .dataframe thead th {\n",
       "        text-align: right;\n",
       "    }\n",
       "</style>\n",
       "<table border=\"1\" class=\"dataframe\">\n",
       "  <thead>\n",
       "    <tr style=\"text-align: right;\">\n",
       "      <th></th>\n",
       "      <th>Restaurant</th>\n",
       "      <th>Type</th>\n",
       "      <th>Time</th>\n",
       "    </tr>\n",
       "  </thead>\n",
       "  <tbody>\n",
       "    <tr>\n",
       "      <th>0</th>\n",
       "      <td>Maalgaadi by Dhaba Estd 1986 Delhi</td>\n",
       "      <td>North Indian, Indian, Biryani, Punjabi, Kebabs...</td>\n",
       "      <td>4.1•30 MINS•₹300 FOR TWO</td>\n",
       "    </tr>\n",
       "    <tr>\n",
       "      <th>1</th>\n",
       "      <td>Chaitanya Food Court</td>\n",
       "      <td>Biryani, Chinese, Andhra, North Indian</td>\n",
       "      <td>4.0•34 MINS•₹600 FOR TWO</td>\n",
       "    </tr>\n",
       "    <tr>\n",
       "      <th>2</th>\n",
       "      <td>The Bowl Concepts</td>\n",
       "      <td>North Indian, Indian</td>\n",
       "      <td>4.0•31 MINS•₹300 FOR TWO</td>\n",
       "    </tr>\n",
       "    <tr>\n",
       "      <th>3</th>\n",
       "      <td>Shah Ghouse Hotel</td>\n",
       "      <td>Biryani, North Indian, Chinese, Mughlai, Tandoor</td>\n",
       "      <td>3.9•31 MINS•₹300 FOR TWO</td>\n",
       "    </tr>\n",
       "    <tr>\n",
       "      <th>4</th>\n",
       "      <td>Raja Rani Ruchulu</td>\n",
       "      <td>Biryani, Indian, Chinese, Tandoor, North India...</td>\n",
       "      <td>4.0•37 MINS•₹300 FOR TWO</td>\n",
       "    </tr>\n",
       "    <tr>\n",
       "      <th>...</th>\n",
       "      <td>...</td>\n",
       "      <td>...</td>\n",
       "      <td>...</td>\n",
       "    </tr>\n",
       "    <tr>\n",
       "      <th>291</th>\n",
       "      <td>Dca cafe &amp; Bistro</td>\n",
       "      <td>Arabian, North Indian, Thalis</td>\n",
       "      <td>--•28 MINS•₹500 FOR TWO</td>\n",
       "    </tr>\n",
       "    <tr>\n",
       "      <th>292</th>\n",
       "      <td>Oolta Tawa</td>\n",
       "      <td>North Indian</td>\n",
       "      <td>3.5•39 MINS•₹200 FOR TWO</td>\n",
       "    </tr>\n",
       "    <tr>\n",
       "      <th>293</th>\n",
       "      <td>Air Live</td>\n",
       "      <td>Tandoor, Pizzas, North Indian, Fast Food, Chinese</td>\n",
       "      <td>--•45 MINS•₹700 FOR TWO</td>\n",
       "    </tr>\n",
       "    <tr>\n",
       "      <th>294</th>\n",
       "      <td>Telangana Hotel</td>\n",
       "      <td>Indian, Chinese, North Indian</td>\n",
       "      <td>--•42 MINS•₹350 FOR TWO</td>\n",
       "    </tr>\n",
       "    <tr>\n",
       "      <th>295</th>\n",
       "      <td>Punjab Bistro Express</td>\n",
       "      <td>North Indian, Biryani, Combo, Tandoor</td>\n",
       "      <td>--•44 MINS•₹450 FOR TWO</td>\n",
       "    </tr>\n",
       "  </tbody>\n",
       "</table>\n",
       "<p>296 rows × 3 columns</p>\n",
       "</div>"
      ],
      "text/plain": [
       "                             Restaurant  \\\n",
       "0    Maalgaadi by Dhaba Estd 1986 Delhi   \n",
       "1                  Chaitanya Food Court   \n",
       "2                     The Bowl Concepts   \n",
       "3                     Shah Ghouse Hotel   \n",
       "4                     Raja Rani Ruchulu   \n",
       "..                                  ...   \n",
       "291                   Dca cafe & Bistro   \n",
       "292                          Oolta Tawa   \n",
       "293                            Air Live   \n",
       "294                     Telangana Hotel   \n",
       "295               Punjab Bistro Express   \n",
       "\n",
       "                                                  Type  \\\n",
       "0    North Indian, Indian, Biryani, Punjabi, Kebabs...   \n",
       "1               Biryani, Chinese, Andhra, North Indian   \n",
       "2                                 North Indian, Indian   \n",
       "3     Biryani, North Indian, Chinese, Mughlai, Tandoor   \n",
       "4    Biryani, Indian, Chinese, Tandoor, North India...   \n",
       "..                                                 ...   \n",
       "291                      Arabian, North Indian, Thalis   \n",
       "292                                       North Indian   \n",
       "293  Tandoor, Pizzas, North Indian, Fast Food, Chinese   \n",
       "294                      Indian, Chinese, North Indian   \n",
       "295              North Indian, Biryani, Combo, Tandoor   \n",
       "\n",
       "                         Time  \n",
       "0    4.1•30 MINS•₹300 FOR TWO  \n",
       "1    4.0•34 MINS•₹600 FOR TWO  \n",
       "2    4.0•31 MINS•₹300 FOR TWO  \n",
       "3    3.9•31 MINS•₹300 FOR TWO  \n",
       "4    4.0•37 MINS•₹300 FOR TWO  \n",
       "..                        ...  \n",
       "291   --•28 MINS•₹500 FOR TWO  \n",
       "292  3.5•39 MINS•₹200 FOR TWO  \n",
       "293   --•45 MINS•₹700 FOR TWO  \n",
       "294   --•42 MINS•₹350 FOR TWO  \n",
       "295   --•44 MINS•₹450 FOR TWO  \n",
       "\n",
       "[296 rows x 3 columns]"
      ]
     },
     "execution_count": 11,
     "metadata": {},
     "output_type": "execute_result"
    }
   ],
   "source": [
    "df1"
   ]
  },
  {
   "cell_type": "markdown",
   "id": "d1526b4f",
   "metadata": {},
   "source": [
    "# CSV IMPORT"
   ]
  },
  {
   "cell_type": "code",
   "execution_count": 12,
   "id": "ac037bb6",
   "metadata": {},
   "outputs": [],
   "source": [
    "df1.to_csv('swiggy_northindian.csv')"
   ]
  },
  {
   "cell_type": "markdown",
   "id": "7b9fd657",
   "metadata": {},
   "source": [
    "# Top rated restaurants"
   ]
  },
  {
   "cell_type": "markdown",
   "id": "6bcf677c",
   "metadata": {},
   "source": [
    "url = 'https://www.swiggy.com/hyderabad/top-rated-collection'"
   ]
  },
  {
   "cell_type": "markdown",
   "id": "06f062be",
   "metadata": {},
   "source": [
    "page = requests.get(url)\n",
    "content = page.content"
   ]
  },
  {
   "cell_type": "markdown",
   "id": "80f68956",
   "metadata": {},
   "source": [
    "soup = BeautifulSoup(content)"
   ]
  },
  {
   "cell_type": "markdown",
   "id": "fa5ea440",
   "metadata": {},
   "source": [
    "res_name = soup.find_all('div',class_='nA6kb')"
   ]
  },
  {
   "cell_type": "markdown",
   "id": "7dba2ddf",
   "metadata": {},
   "source": [
    "for res_name in soup.find_all('div',class_='nA6kb'):\n",
    "    print(res_name.text)\n",
    "    name.append(res_name.text)"
   ]
  },
  {
   "cell_type": "markdown",
   "id": "5a19774c",
   "metadata": {},
   "source": [
    "res_time = soup.find_all('div',class_= '_3Mn31')"
   ]
  },
  {
   "cell_type": "markdown",
   "id": "bc6c9cd2",
   "metadata": {},
   "source": [
    "for res_time in soup.find_all('div',class_ = '_3Mn31'):\n",
    "    print(res_time.text)\n",
    "    time.append(res_time.text)"
   ]
  },
  {
   "cell_type": "markdown",
   "id": "a18027bd",
   "metadata": {},
   "source": [
    "res_amount = soup.find_all('div',class_='nVWSi')"
   ]
  },
  {
   "cell_type": "markdown",
   "id": "536af537",
   "metadata": {},
   "source": [
    "for res_amount in soup.find_all('div',class_ = \"nVWSi\"):\n",
    "    print(res_amount.text)\n",
    "    amount.append(res_amount.text)"
   ]
  },
  {
   "cell_type": "markdown",
   "id": "a6b56d95",
   "metadata": {},
   "source": [
    "for i in soup.find_all('div',class_='_1gURR'):\n",
    "    type_.append(i.text)"
   ]
  },
  {
   "cell_type": "code",
   "execution_count": 13,
   "id": "d58d9a15",
   "metadata": {},
   "outputs": [],
   "source": [
    "#creating a new empty list.\n",
    "name =[]\n",
    "type_=[]\n",
    "time = []\n",
    "rating = []\n",
    "price = []\n",
    "for page in range(1,30):\n",
    "    url = 'https://www.swiggy.com/hyderabad/top-rated-collection?page={}'.format(page)\n",
    "    page = requests.get(url)\n",
    "    soup = BeautifulSoup(page.content)\n",
    "    for res_name in soup.find_all('div',class_ = \"nA6kb\"):\n",
    "           name.append(res_name.text)\n",
    "    for res_time in soup.find_all('div',class_ = '_3Mn31'):\n",
    "            time.append(res_time.text)\n",
    "    for i in soup.find_all('div',class_='_1gURR'):\n",
    "            type_.append(i.text)\n",
    "    "
   ]
  },
  {
   "cell_type": "code",
   "execution_count": 14,
   "id": "ebfe2f1c",
   "metadata": {},
   "outputs": [],
   "source": [
    "d2 = {'Restaurant':name,\n",
    "     'Type':type_,\n",
    "     'Time':time}"
   ]
  },
  {
   "cell_type": "code",
   "execution_count": 15,
   "id": "1718e0ae",
   "metadata": {},
   "outputs": [
    {
     "data": {
      "text/html": [
       "<div>\n",
       "<style scoped>\n",
       "    .dataframe tbody tr th:only-of-type {\n",
       "        vertical-align: middle;\n",
       "    }\n",
       "\n",
       "    .dataframe tbody tr th {\n",
       "        vertical-align: top;\n",
       "    }\n",
       "\n",
       "    .dataframe thead th {\n",
       "        text-align: right;\n",
       "    }\n",
       "</style>\n",
       "<table border=\"1\" class=\"dataframe\">\n",
       "  <thead>\n",
       "    <tr style=\"text-align: right;\">\n",
       "      <th></th>\n",
       "      <th>Restaurant</th>\n",
       "      <th>Type</th>\n",
       "      <th>Time</th>\n",
       "    </tr>\n",
       "  </thead>\n",
       "  <tbody>\n",
       "    <tr>\n",
       "      <th>0</th>\n",
       "      <td>Earth Craft</td>\n",
       "      <td>Indian, Beverages</td>\n",
       "      <td>5.0•44 MINS•₹600 FOR TWO</td>\n",
       "    </tr>\n",
       "    <tr>\n",
       "      <th>1</th>\n",
       "      <td>Authentic Belgian Waffles</td>\n",
       "      <td>Waffle, Desserts</td>\n",
       "      <td>4.9•48 MINS•₹300 FOR TWO</td>\n",
       "    </tr>\n",
       "    <tr>\n",
       "      <th>2</th>\n",
       "      <td>Splurge - Thickshakes and Milkshakes</td>\n",
       "      <td>Beverages, Desserts</td>\n",
       "      <td>4.8•33 MINS•₹300 FOR TWO</td>\n",
       "    </tr>\n",
       "    <tr>\n",
       "      <th>3</th>\n",
       "      <td>Zorro - Milkshakes and Thickshakes</td>\n",
       "      <td>Desserts, Beverages, Ice Cream, Juices</td>\n",
       "      <td>4.8•35 MINS•₹300 FOR TWO</td>\n",
       "    </tr>\n",
       "    <tr>\n",
       "      <th>4</th>\n",
       "      <td>Fruitoholic</td>\n",
       "      <td>Beverages, Healthy Food</td>\n",
       "      <td>4.8•43 MINS•₹200 FOR TWO</td>\n",
       "    </tr>\n",
       "    <tr>\n",
       "      <th>...</th>\n",
       "      <td>...</td>\n",
       "      <td>...</td>\n",
       "      <td>...</td>\n",
       "    </tr>\n",
       "    <tr>\n",
       "      <th>459</th>\n",
       "      <td>SRINIDHI RESTAURANT</td>\n",
       "      <td>South Indian, North Indian, Biryani, Chinese</td>\n",
       "      <td>3.9•41 MINS•₹390 FOR TWO</td>\n",
       "    </tr>\n",
       "    <tr>\n",
       "      <th>460</th>\n",
       "      <td>Hotel Swagath Residency - Dhanturi Group of Ho...</td>\n",
       "      <td>Biryani, Tandoor, Chinese, Seafood, Beverages,...</td>\n",
       "      <td>3.9•53 MINS•₹500 FOR TWO</td>\n",
       "    </tr>\n",
       "    <tr>\n",
       "      <th>461</th>\n",
       "      <td>Indiana Burgers</td>\n",
       "      <td>American, Desserts, Fast Food</td>\n",
       "      <td>3.9•42 MINS•₹150 FOR TWO</td>\n",
       "    </tr>\n",
       "    <tr>\n",
       "      <th>462</th>\n",
       "      <td>JAIN KITCHEN PURE VEGETARIAN  RESTAURANT</td>\n",
       "      <td>North Indian, South Indian, Jain, Chinese, Tan...</td>\n",
       "      <td>3.9•47 MINS•₹400 FOR TWO</td>\n",
       "    </tr>\n",
       "    <tr>\n",
       "      <th>463</th>\n",
       "      <td>Warm N Spice</td>\n",
       "      <td>Indian, Chinese, Tandoor</td>\n",
       "      <td>3.9•42 MINS•₹399 FOR TWO</td>\n",
       "    </tr>\n",
       "  </tbody>\n",
       "</table>\n",
       "<p>464 rows × 3 columns</p>\n",
       "</div>"
      ],
      "text/plain": [
       "                                            Restaurant  \\\n",
       "0                                          Earth Craft   \n",
       "1                            Authentic Belgian Waffles   \n",
       "2                 Splurge - Thickshakes and Milkshakes   \n",
       "3                   Zorro - Milkshakes and Thickshakes   \n",
       "4                                          Fruitoholic   \n",
       "..                                                 ...   \n",
       "459                                SRINIDHI RESTAURANT   \n",
       "460  Hotel Swagath Residency - Dhanturi Group of Ho...   \n",
       "461                                    Indiana Burgers   \n",
       "462           JAIN KITCHEN PURE VEGETARIAN  RESTAURANT   \n",
       "463                                       Warm N Spice   \n",
       "\n",
       "                                                  Type  \\\n",
       "0                                    Indian, Beverages   \n",
       "1                                     Waffle, Desserts   \n",
       "2                                  Beverages, Desserts   \n",
       "3               Desserts, Beverages, Ice Cream, Juices   \n",
       "4                              Beverages, Healthy Food   \n",
       "..                                                 ...   \n",
       "459       South Indian, North Indian, Biryani, Chinese   \n",
       "460  Biryani, Tandoor, Chinese, Seafood, Beverages,...   \n",
       "461                      American, Desserts, Fast Food   \n",
       "462  North Indian, South Indian, Jain, Chinese, Tan...   \n",
       "463                           Indian, Chinese, Tandoor   \n",
       "\n",
       "                         Time  \n",
       "0    5.0•44 MINS•₹600 FOR TWO  \n",
       "1    4.9•48 MINS•₹300 FOR TWO  \n",
       "2    4.8•33 MINS•₹300 FOR TWO  \n",
       "3    4.8•35 MINS•₹300 FOR TWO  \n",
       "4    4.8•43 MINS•₹200 FOR TWO  \n",
       "..                        ...  \n",
       "459  3.9•41 MINS•₹390 FOR TWO  \n",
       "460  3.9•53 MINS•₹500 FOR TWO  \n",
       "461  3.9•42 MINS•₹150 FOR TWO  \n",
       "462  3.9•47 MINS•₹400 FOR TWO  \n",
       "463  3.9•42 MINS•₹399 FOR TWO  \n",
       "\n",
       "[464 rows x 3 columns]"
      ]
     },
     "execution_count": 15,
     "metadata": {},
     "output_type": "execute_result"
    }
   ],
   "source": [
    "df2 = pd.DataFrame(d2)\n",
    "df2"
   ]
  },
  {
   "cell_type": "markdown",
   "id": "546a48c8",
   "metadata": {},
   "source": [
    "# CSV IMPORT"
   ]
  },
  {
   "cell_type": "code",
   "execution_count": 16,
   "id": "e45c750b",
   "metadata": {},
   "outputs": [],
   "source": [
    "df2.to_csv('swiggy_toprated.csv')"
   ]
  },
  {
   "cell_type": "code",
   "execution_count": 17,
   "id": "49873941",
   "metadata": {},
   "outputs": [
    {
     "data": {
      "text/plain": [
       "464"
      ]
     },
     "execution_count": 17,
     "metadata": {},
     "output_type": "execute_result"
    }
   ],
   "source": [
    "len(name)"
   ]
  },
  {
   "cell_type": "markdown",
   "id": "0f632348",
   "metadata": {},
   "source": [
    "df2['rating'] = df2['Time'].apply(lambda x:x.split('•')[0])"
   ]
  },
  {
   "cell_type": "markdown",
   "id": "971345b9",
   "metadata": {},
   "source": [
    "df2['price'] = df2['Time'].apply(lambda x:x.split('•')[2])"
   ]
  },
  {
   "cell_type": "markdown",
   "id": "9ddb369a",
   "metadata": {},
   "source": [
    "df['time'] = df['Time'].apply(lambda x:x.split('•')[1])"
   ]
  },
  {
   "cell_type": "markdown",
   "id": "ab86afde",
   "metadata": {},
   "source": [
    "df2['Italian_available']= df2['Type'].apply(lambda x:'yes' if 'Italian' in x else 'no')"
   ]
  },
  {
   "cell_type": "markdown",
   "id": "4a0069d8",
   "metadata": {},
   "source": [
    "df2['Beverages_available']= df2['Type'].apply(lambda x:'yes' if 'Beverages' in x else 'no')"
   ]
  },
  {
   "cell_type": "markdown",
   "id": "a495487f",
   "metadata": {},
   "source": [
    "df2['Desserts_available']=df2['Type'].apply(lambda x: 'yes' if 'Desserts' in x else 'no')"
   ]
  },
  {
   "cell_type": "markdown",
   "id": "dcecfe90",
   "metadata": {},
   "source": [
    "df2['type_of_restaurants'] = 'toprated'"
   ]
  },
  {
   "cell_type": "code",
   "execution_count": 18,
   "id": "274d942c",
   "metadata": {},
   "outputs": [
    {
     "data": {
      "text/html": [
       "<div>\n",
       "<style scoped>\n",
       "    .dataframe tbody tr th:only-of-type {\n",
       "        vertical-align: middle;\n",
       "    }\n",
       "\n",
       "    .dataframe tbody tr th {\n",
       "        vertical-align: top;\n",
       "    }\n",
       "\n",
       "    .dataframe thead th {\n",
       "        text-align: right;\n",
       "    }\n",
       "</style>\n",
       "<table border=\"1\" class=\"dataframe\">\n",
       "  <thead>\n",
       "    <tr style=\"text-align: right;\">\n",
       "      <th></th>\n",
       "      <th>Restaurant</th>\n",
       "      <th>Type</th>\n",
       "      <th>Time</th>\n",
       "    </tr>\n",
       "  </thead>\n",
       "  <tbody>\n",
       "    <tr>\n",
       "      <th>0</th>\n",
       "      <td>Earth Craft</td>\n",
       "      <td>Indian, Beverages</td>\n",
       "      <td>5.0•44 MINS•₹600 FOR TWO</td>\n",
       "    </tr>\n",
       "    <tr>\n",
       "      <th>1</th>\n",
       "      <td>Authentic Belgian Waffles</td>\n",
       "      <td>Waffle, Desserts</td>\n",
       "      <td>4.9•48 MINS•₹300 FOR TWO</td>\n",
       "    </tr>\n",
       "    <tr>\n",
       "      <th>2</th>\n",
       "      <td>Splurge - Thickshakes and Milkshakes</td>\n",
       "      <td>Beverages, Desserts</td>\n",
       "      <td>4.8•33 MINS•₹300 FOR TWO</td>\n",
       "    </tr>\n",
       "    <tr>\n",
       "      <th>3</th>\n",
       "      <td>Zorro - Milkshakes and Thickshakes</td>\n",
       "      <td>Desserts, Beverages, Ice Cream, Juices</td>\n",
       "      <td>4.8•35 MINS•₹300 FOR TWO</td>\n",
       "    </tr>\n",
       "    <tr>\n",
       "      <th>4</th>\n",
       "      <td>Fruitoholic</td>\n",
       "      <td>Beverages, Healthy Food</td>\n",
       "      <td>4.8•43 MINS•₹200 FOR TWO</td>\n",
       "    </tr>\n",
       "    <tr>\n",
       "      <th>...</th>\n",
       "      <td>...</td>\n",
       "      <td>...</td>\n",
       "      <td>...</td>\n",
       "    </tr>\n",
       "    <tr>\n",
       "      <th>459</th>\n",
       "      <td>SRINIDHI RESTAURANT</td>\n",
       "      <td>South Indian, North Indian, Biryani, Chinese</td>\n",
       "      <td>3.9•41 MINS•₹390 FOR TWO</td>\n",
       "    </tr>\n",
       "    <tr>\n",
       "      <th>460</th>\n",
       "      <td>Hotel Swagath Residency - Dhanturi Group of Ho...</td>\n",
       "      <td>Biryani, Tandoor, Chinese, Seafood, Beverages,...</td>\n",
       "      <td>3.9•53 MINS•₹500 FOR TWO</td>\n",
       "    </tr>\n",
       "    <tr>\n",
       "      <th>461</th>\n",
       "      <td>Indiana Burgers</td>\n",
       "      <td>American, Desserts, Fast Food</td>\n",
       "      <td>3.9•42 MINS•₹150 FOR TWO</td>\n",
       "    </tr>\n",
       "    <tr>\n",
       "      <th>462</th>\n",
       "      <td>JAIN KITCHEN PURE VEGETARIAN  RESTAURANT</td>\n",
       "      <td>North Indian, South Indian, Jain, Chinese, Tan...</td>\n",
       "      <td>3.9•47 MINS•₹400 FOR TWO</td>\n",
       "    </tr>\n",
       "    <tr>\n",
       "      <th>463</th>\n",
       "      <td>Warm N Spice</td>\n",
       "      <td>Indian, Chinese, Tandoor</td>\n",
       "      <td>3.9•42 MINS•₹399 FOR TWO</td>\n",
       "    </tr>\n",
       "  </tbody>\n",
       "</table>\n",
       "<p>464 rows × 3 columns</p>\n",
       "</div>"
      ],
      "text/plain": [
       "                                            Restaurant  \\\n",
       "0                                          Earth Craft   \n",
       "1                            Authentic Belgian Waffles   \n",
       "2                 Splurge - Thickshakes and Milkshakes   \n",
       "3                   Zorro - Milkshakes and Thickshakes   \n",
       "4                                          Fruitoholic   \n",
       "..                                                 ...   \n",
       "459                                SRINIDHI RESTAURANT   \n",
       "460  Hotel Swagath Residency - Dhanturi Group of Ho...   \n",
       "461                                    Indiana Burgers   \n",
       "462           JAIN KITCHEN PURE VEGETARIAN  RESTAURANT   \n",
       "463                                       Warm N Spice   \n",
       "\n",
       "                                                  Type  \\\n",
       "0                                    Indian, Beverages   \n",
       "1                                     Waffle, Desserts   \n",
       "2                                  Beverages, Desserts   \n",
       "3               Desserts, Beverages, Ice Cream, Juices   \n",
       "4                              Beverages, Healthy Food   \n",
       "..                                                 ...   \n",
       "459       South Indian, North Indian, Biryani, Chinese   \n",
       "460  Biryani, Tandoor, Chinese, Seafood, Beverages,...   \n",
       "461                      American, Desserts, Fast Food   \n",
       "462  North Indian, South Indian, Jain, Chinese, Tan...   \n",
       "463                           Indian, Chinese, Tandoor   \n",
       "\n",
       "                         Time  \n",
       "0    5.0•44 MINS•₹600 FOR TWO  \n",
       "1    4.9•48 MINS•₹300 FOR TWO  \n",
       "2    4.8•33 MINS•₹300 FOR TWO  \n",
       "3    4.8•35 MINS•₹300 FOR TWO  \n",
       "4    4.8•43 MINS•₹200 FOR TWO  \n",
       "..                        ...  \n",
       "459  3.9•41 MINS•₹390 FOR TWO  \n",
       "460  3.9•53 MINS•₹500 FOR TWO  \n",
       "461  3.9•42 MINS•₹150 FOR TWO  \n",
       "462  3.9•47 MINS•₹400 FOR TWO  \n",
       "463  3.9•42 MINS•₹399 FOR TWO  \n",
       "\n",
       "[464 rows x 3 columns]"
      ]
     },
     "execution_count": 18,
     "metadata": {},
     "output_type": "execute_result"
    }
   ],
   "source": [
    "df2"
   ]
  },
  {
   "cell_type": "markdown",
   "id": "7cea8fcf",
   "metadata": {},
   "source": [
    "# concating all df,df1,df2.\n"
   ]
  },
  {
   "cell_type": "code",
   "execution_count": 19,
   "id": "084a4137",
   "metadata": {},
   "outputs": [],
   "source": [
    "data = pd.concat([df,df1,df2])"
   ]
  },
  {
   "cell_type": "code",
   "execution_count": 20,
   "id": "44ea046b",
   "metadata": {},
   "outputs": [],
   "source": [
    "data.reset_index(inplace = True)"
   ]
  },
  {
   "cell_type": "code",
   "execution_count": 21,
   "id": "1b10d076",
   "metadata": {},
   "outputs": [],
   "source": [
    "data.to_csv('swiggy_whole_data.csv')"
   ]
  },
  {
   "cell_type": "code",
   "execution_count": 22,
   "id": "26ffbd00",
   "metadata": {},
   "outputs": [],
   "source": [
    "data = pd.read_csv('swiggy_whole_data.csv')"
   ]
  },
  {
   "cell_type": "markdown",
   "id": "1c0b7a67",
   "metadata": {},
   "source": [
    "# Data Cleaning \n",
    "# 1.Restaurant that serve \n",
    "#'BIRYANIS','North indian','Top rated .\n"
   ]
  },
  {
   "cell_type": "code",
   "execution_count": 23,
   "id": "49bbb892",
   "metadata": {},
   "outputs": [],
   "source": [
    "# starts with cleaning the unncessary data like colums and rows with symbols or changes that need to  done.\n",
    "# replace function.\n",
    "# drop function.\n",
    "#value_count.\n",
    "#astype ('float') use for object to change into a(numbers) float values part of cleaning.\n",
    "#"
   ]
  },
  {
   "cell_type": "code",
   "execution_count": 24,
   "id": "f7764769",
   "metadata": {},
   "outputs": [],
   "source": [
    "data['rating'] = data['Time'].apply(lambda x:x.split('•')[0])"
   ]
  },
  {
   "cell_type": "code",
   "execution_count": 25,
   "id": "e23dc881",
   "metadata": {},
   "outputs": [],
   "source": [
    "data['price'] = data['Time'].apply(lambda x:x.split('•')[2])"
   ]
  },
  {
   "cell_type": "code",
   "execution_count": 26,
   "id": "c5103834",
   "metadata": {},
   "outputs": [],
   "source": [
    "data['time'] = data['Time'].apply(lambda x:x.split('•')[1])"
   ]
  },
  {
   "cell_type": "code",
   "execution_count": 27,
   "id": "b424bea1",
   "metadata": {},
   "outputs": [],
   "source": [
    "data['Italian_available']= data['Type'].apply(lambda x:'yes' if 'Italian' in x else 'no')"
   ]
  },
  {
   "cell_type": "code",
   "execution_count": 28,
   "id": "1ac97cac",
   "metadata": {},
   "outputs": [],
   "source": [
    "data['Beverages_available']= data['Type'].apply(lambda x:'yes' if 'Beverages' in x else 'no')"
   ]
  },
  {
   "cell_type": "code",
   "execution_count": 29,
   "id": "db365c28",
   "metadata": {},
   "outputs": [],
   "source": [
    "data['Desserts_available']=data['Type'].apply(lambda x: 'yes' if 'Desserts' in x else 'no')"
   ]
  },
  {
   "cell_type": "code",
   "execution_count": 30,
   "id": "21aebf80",
   "metadata": {},
   "outputs": [],
   "source": [
    "data['Continental_available']= data['Type'].apply(lambda x: 'yes' if 'Continental' in x else 'no')"
   ]
  },
  {
   "cell_type": "code",
   "execution_count": 31,
   "id": "09933e78",
   "metadata": {},
   "outputs": [],
   "source": [
    "data['Tandoor_available']=data['Type'].apply(lambda x: 'yes' if 'Tandoor' in x else 'no')\n"
   ]
  },
  {
   "cell_type": "code",
   "execution_count": 32,
   "id": "9065d638",
   "metadata": {},
   "outputs": [],
   "source": [
    "data['Chinese_available']= data['Type'].apply(lambda x: 'yes' if 'Chinese' in x else 'no')"
   ]
  },
  {
   "cell_type": "code",
   "execution_count": 33,
   "id": "93e4e7e6",
   "metadata": {},
   "outputs": [],
   "source": [
    "data['time'] = data['time'].apply(lambda x:x.split()[0])"
   ]
  },
  {
   "cell_type": "code",
   "execution_count": 34,
   "id": "fe3004d8",
   "metadata": {},
   "outputs": [],
   "source": [
    "data['price'] = data['price'].apply(lambda x:x.split()[0])"
   ]
  },
  {
   "cell_type": "code",
   "execution_count": 35,
   "id": "b865a456",
   "metadata": {},
   "outputs": [],
   "source": [
    "data.drop('Time',axis=1,inplace = True)"
   ]
  },
  {
   "cell_type": "code",
   "execution_count": 36,
   "id": "3463f24c",
   "metadata": {},
   "outputs": [],
   "source": [
    "data.drop('index',axis=1,inplace = True)"
   ]
  },
  {
   "cell_type": "code",
   "execution_count": 37,
   "id": "6df68727",
   "metadata": {},
   "outputs": [],
   "source": [
    "data.drop('Unnamed: 0',axis=1,inplace = True)"
   ]
  },
  {
   "cell_type": "code",
   "execution_count": 38,
   "id": "63539c96",
   "metadata": {},
   "outputs": [
    {
     "data": {
      "text/plain": [
       "no     1153\n",
       "yes      71\n",
       "Name: Continental_available, dtype: int64"
      ]
     },
     "execution_count": 38,
     "metadata": {},
     "output_type": "execute_result"
    }
   ],
   "source": [
    "data['Continental_available'].value_counts()"
   ]
  },
  {
   "cell_type": "code",
   "execution_count": 39,
   "id": "29113fcf",
   "metadata": {},
   "outputs": [],
   "source": [
    "data.rename(columns={'price':'price for Two'},inplace= True)"
   ]
  },
  {
   "cell_type": "code",
   "execution_count": 40,
   "id": "846884bc",
   "metadata": {
    "scrolled": true
   },
   "outputs": [],
   "source": [
    "data['price for Two'] = data['price for Two'].apply(lambda x:x.replace('₹',''))"
   ]
  },
  {
   "cell_type": "code",
   "execution_count": 41,
   "id": "f5914161",
   "metadata": {},
   "outputs": [],
   "source": [
    "data['price for Two'] = data['price for Two'].astype('float')"
   ]
  },
  {
   "cell_type": "code",
   "execution_count": 42,
   "id": "63e84292",
   "metadata": {},
   "outputs": [],
   "source": [
    "data['rating'] = data['rating'].apply(lambda x: 0 if '--' in x else x).astype('float')"
   ]
  },
  {
   "cell_type": "code",
   "execution_count": 43,
   "id": "48779ab2",
   "metadata": {},
   "outputs": [],
   "source": [
    "data['time'] = data['time'].astype('float')"
   ]
  },
  {
   "cell_type": "code",
   "execution_count": 44,
   "id": "39a3e71b",
   "metadata": {},
   "outputs": [],
   "source": [
    "data.drop('Chinese_available',axis= 1,inplace= True)"
   ]
  },
  {
   "cell_type": "code",
   "execution_count": 45,
   "id": "c04c9840",
   "metadata": {},
   "outputs": [],
   "source": [
    "data['biryani_available'] = data['Type'].apply(lambda x: 'yes'if 'Biryani' in x else 'no' )"
   ]
  },
  {
   "cell_type": "markdown",
   "id": "7aaef79b",
   "metadata": {},
   "source": [
    "# EDA\n",
    "Explorataroy Data Analysis"
   ]
  },
  {
   "cell_type": "code",
   "execution_count": 46,
   "id": "3ef5321a",
   "metadata": {},
   "outputs": [
    {
     "data": {
      "text/plain": [
       "Index(['Restaurant', 'Type', 'rating', 'price for Two', 'time',\n",
       "       'Italian_available', 'Beverages_available', 'Desserts_available',\n",
       "       'Continental_available', 'Tandoor_available', 'biryani_available'],\n",
       "      dtype='object')"
      ]
     },
     "execution_count": 46,
     "metadata": {},
     "output_type": "execute_result"
    }
   ],
   "source": [
    "data.columns"
   ]
  },
  {
   "cell_type": "code",
   "execution_count": 47,
   "id": "049c6acf",
   "metadata": {},
   "outputs": [
    {
     "name": "stdout",
     "output_type": "stream",
     "text": [
      "<class 'pandas.core.frame.DataFrame'>\n",
      "RangeIndex: 1224 entries, 0 to 1223\n",
      "Data columns (total 11 columns):\n",
      " #   Column                 Non-Null Count  Dtype  \n",
      "---  ------                 --------------  -----  \n",
      " 0   Restaurant             1224 non-null   object \n",
      " 1   Type                   1224 non-null   object \n",
      " 2   rating                 1224 non-null   float64\n",
      " 3   price for Two          1224 non-null   float64\n",
      " 4   time                   1224 non-null   float64\n",
      " 5   Italian_available      1224 non-null   object \n",
      " 6   Beverages_available    1224 non-null   object \n",
      " 7   Desserts_available     1224 non-null   object \n",
      " 8   Continental_available  1224 non-null   object \n",
      " 9   Tandoor_available      1224 non-null   object \n",
      " 10  biryani_available      1224 non-null   object \n",
      "dtypes: float64(3), object(8)\n",
      "memory usage: 105.3+ KB\n"
     ]
    }
   ],
   "source": [
    "data.info()"
   ]
  },
  {
   "cell_type": "markdown",
   "id": "d6c0f1d9",
   "metadata": {},
   "source": [
    "## Restuarants"
   ]
  },
  {
   "cell_type": "code",
   "execution_count": 48,
   "id": "bb7cd41b",
   "metadata": {},
   "outputs": [
    {
     "data": {
      "text/plain": [
       "count                           1224\n",
       "unique                           737\n",
       "top       Shree Santosh Family Dhaba\n",
       "freq                               5\n",
       "Name: Restaurant, dtype: object"
      ]
     },
     "execution_count": 48,
     "metadata": {},
     "output_type": "execute_result"
    }
   ],
   "source": [
    "data['Restaurant'].describe()"
   ]
  },
  {
   "cell_type": "code",
   "execution_count": 49,
   "id": "59f965d4",
   "metadata": {},
   "outputs": [
    {
     "data": {
      "text/plain": [
       "Shree Santosh Family Dhaba         5\n",
       "Almond House                       5\n",
       "Bahar Biryani Cafe                 5\n",
       "The Bowl Concepts                  5\n",
       "Khichdi Experiment                 5\n",
       "                                  ..\n",
       "Eat Burp Repeat                    1\n",
       "The Desi-Sthan                     1\n",
       "Lassi Corner                       1\n",
       "Srilaxmi Tiffins and Restaurant    1\n",
       "RANGBHOOMI KITCHEN                 1\n",
       "Name: Restaurant, Length: 737, dtype: int64"
      ]
     },
     "execution_count": 49,
     "metadata": {},
     "output_type": "execute_result"
    }
   ],
   "source": [
    "data['Restaurant'].value_counts()"
   ]
  },
  {
   "cell_type": "markdown",
   "id": "86303ea1",
   "metadata": {},
   "source": [
    "## Price"
   ]
  },
  {
   "cell_type": "code",
   "execution_count": 50,
   "id": "314ee68b",
   "metadata": {},
   "outputs": [
    {
     "data": {
      "text/plain": [
       "count    1224.000000\n",
       "mean      353.828431\n",
       "std       211.133479\n",
       "min        50.000000\n",
       "25%       200.000000\n",
       "50%       300.000000\n",
       "75%       400.000000\n",
       "max      1500.000000\n",
       "Name: price for Two, dtype: float64"
      ]
     },
     "execution_count": 50,
     "metadata": {},
     "output_type": "execute_result"
    }
   ],
   "source": [
    "data['price for Two'].describe()"
   ]
  },
  {
   "cell_type": "code",
   "execution_count": 51,
   "id": "ed82009e",
   "metadata": {},
   "outputs": [
    {
     "data": {
      "text/plain": [
       "count    1224.000000\n",
       "mean        3.631944\n",
       "std         1.226900\n",
       "min         0.000000\n",
       "25%         3.800000\n",
       "50%         4.000000\n",
       "75%         4.200000\n",
       "max         5.000000\n",
       "Name: rating, dtype: float64"
      ]
     },
     "execution_count": 51,
     "metadata": {},
     "output_type": "execute_result"
    }
   ],
   "source": [
    "data['rating'].describe()"
   ]
  },
  {
   "cell_type": "markdown",
   "id": "93310815",
   "metadata": {},
   "source": [
    "# Finding missing values "
   ]
  },
  {
   "cell_type": "code",
   "execution_count": 52,
   "id": "4f1cd2c0",
   "metadata": {
    "scrolled": true
   },
   "outputs": [
    {
     "data": {
      "text/html": [
       "<div>\n",
       "<style scoped>\n",
       "    .dataframe tbody tr th:only-of-type {\n",
       "        vertical-align: middle;\n",
       "    }\n",
       "\n",
       "    .dataframe tbody tr th {\n",
       "        vertical-align: top;\n",
       "    }\n",
       "\n",
       "    .dataframe thead th {\n",
       "        text-align: right;\n",
       "    }\n",
       "</style>\n",
       "<table border=\"1\" class=\"dataframe\">\n",
       "  <thead>\n",
       "    <tr style=\"text-align: right;\">\n",
       "      <th></th>\n",
       "      <th>Restaurant</th>\n",
       "      <th>Type</th>\n",
       "      <th>rating</th>\n",
       "      <th>price for Two</th>\n",
       "      <th>time</th>\n",
       "      <th>Italian_available</th>\n",
       "      <th>Beverages_available</th>\n",
       "      <th>Desserts_available</th>\n",
       "      <th>Continental_available</th>\n",
       "      <th>Tandoor_available</th>\n",
       "      <th>biryani_available</th>\n",
       "    </tr>\n",
       "  </thead>\n",
       "  <tbody>\n",
       "    <tr>\n",
       "      <th>0</th>\n",
       "      <td>False</td>\n",
       "      <td>False</td>\n",
       "      <td>False</td>\n",
       "      <td>False</td>\n",
       "      <td>False</td>\n",
       "      <td>False</td>\n",
       "      <td>False</td>\n",
       "      <td>False</td>\n",
       "      <td>False</td>\n",
       "      <td>False</td>\n",
       "      <td>False</td>\n",
       "    </tr>\n",
       "    <tr>\n",
       "      <th>1</th>\n",
       "      <td>False</td>\n",
       "      <td>False</td>\n",
       "      <td>False</td>\n",
       "      <td>False</td>\n",
       "      <td>False</td>\n",
       "      <td>False</td>\n",
       "      <td>False</td>\n",
       "      <td>False</td>\n",
       "      <td>False</td>\n",
       "      <td>False</td>\n",
       "      <td>False</td>\n",
       "    </tr>\n",
       "    <tr>\n",
       "      <th>2</th>\n",
       "      <td>False</td>\n",
       "      <td>False</td>\n",
       "      <td>False</td>\n",
       "      <td>False</td>\n",
       "      <td>False</td>\n",
       "      <td>False</td>\n",
       "      <td>False</td>\n",
       "      <td>False</td>\n",
       "      <td>False</td>\n",
       "      <td>False</td>\n",
       "      <td>False</td>\n",
       "    </tr>\n",
       "    <tr>\n",
       "      <th>3</th>\n",
       "      <td>False</td>\n",
       "      <td>False</td>\n",
       "      <td>False</td>\n",
       "      <td>False</td>\n",
       "      <td>False</td>\n",
       "      <td>False</td>\n",
       "      <td>False</td>\n",
       "      <td>False</td>\n",
       "      <td>False</td>\n",
       "      <td>False</td>\n",
       "      <td>False</td>\n",
       "    </tr>\n",
       "    <tr>\n",
       "      <th>4</th>\n",
       "      <td>False</td>\n",
       "      <td>False</td>\n",
       "      <td>False</td>\n",
       "      <td>False</td>\n",
       "      <td>False</td>\n",
       "      <td>False</td>\n",
       "      <td>False</td>\n",
       "      <td>False</td>\n",
       "      <td>False</td>\n",
       "      <td>False</td>\n",
       "      <td>False</td>\n",
       "    </tr>\n",
       "    <tr>\n",
       "      <th>...</th>\n",
       "      <td>...</td>\n",
       "      <td>...</td>\n",
       "      <td>...</td>\n",
       "      <td>...</td>\n",
       "      <td>...</td>\n",
       "      <td>...</td>\n",
       "      <td>...</td>\n",
       "      <td>...</td>\n",
       "      <td>...</td>\n",
       "      <td>...</td>\n",
       "      <td>...</td>\n",
       "    </tr>\n",
       "    <tr>\n",
       "      <th>1219</th>\n",
       "      <td>False</td>\n",
       "      <td>False</td>\n",
       "      <td>False</td>\n",
       "      <td>False</td>\n",
       "      <td>False</td>\n",
       "      <td>False</td>\n",
       "      <td>False</td>\n",
       "      <td>False</td>\n",
       "      <td>False</td>\n",
       "      <td>False</td>\n",
       "      <td>False</td>\n",
       "    </tr>\n",
       "    <tr>\n",
       "      <th>1220</th>\n",
       "      <td>False</td>\n",
       "      <td>False</td>\n",
       "      <td>False</td>\n",
       "      <td>False</td>\n",
       "      <td>False</td>\n",
       "      <td>False</td>\n",
       "      <td>False</td>\n",
       "      <td>False</td>\n",
       "      <td>False</td>\n",
       "      <td>False</td>\n",
       "      <td>False</td>\n",
       "    </tr>\n",
       "    <tr>\n",
       "      <th>1221</th>\n",
       "      <td>False</td>\n",
       "      <td>False</td>\n",
       "      <td>False</td>\n",
       "      <td>False</td>\n",
       "      <td>False</td>\n",
       "      <td>False</td>\n",
       "      <td>False</td>\n",
       "      <td>False</td>\n",
       "      <td>False</td>\n",
       "      <td>False</td>\n",
       "      <td>False</td>\n",
       "    </tr>\n",
       "    <tr>\n",
       "      <th>1222</th>\n",
       "      <td>False</td>\n",
       "      <td>False</td>\n",
       "      <td>False</td>\n",
       "      <td>False</td>\n",
       "      <td>False</td>\n",
       "      <td>False</td>\n",
       "      <td>False</td>\n",
       "      <td>False</td>\n",
       "      <td>False</td>\n",
       "      <td>False</td>\n",
       "      <td>False</td>\n",
       "    </tr>\n",
       "    <tr>\n",
       "      <th>1223</th>\n",
       "      <td>False</td>\n",
       "      <td>False</td>\n",
       "      <td>False</td>\n",
       "      <td>False</td>\n",
       "      <td>False</td>\n",
       "      <td>False</td>\n",
       "      <td>False</td>\n",
       "      <td>False</td>\n",
       "      <td>False</td>\n",
       "      <td>False</td>\n",
       "      <td>False</td>\n",
       "    </tr>\n",
       "  </tbody>\n",
       "</table>\n",
       "<p>1224 rows × 11 columns</p>\n",
       "</div>"
      ],
      "text/plain": [
       "      Restaurant   Type  rating  price for Two   time  Italian_available  \\\n",
       "0          False  False   False          False  False              False   \n",
       "1          False  False   False          False  False              False   \n",
       "2          False  False   False          False  False              False   \n",
       "3          False  False   False          False  False              False   \n",
       "4          False  False   False          False  False              False   \n",
       "...          ...    ...     ...            ...    ...                ...   \n",
       "1219       False  False   False          False  False              False   \n",
       "1220       False  False   False          False  False              False   \n",
       "1221       False  False   False          False  False              False   \n",
       "1222       False  False   False          False  False              False   \n",
       "1223       False  False   False          False  False              False   \n",
       "\n",
       "      Beverages_available  Desserts_available  Continental_available  \\\n",
       "0                   False               False                  False   \n",
       "1                   False               False                  False   \n",
       "2                   False               False                  False   \n",
       "3                   False               False                  False   \n",
       "4                   False               False                  False   \n",
       "...                   ...                 ...                    ...   \n",
       "1219                False               False                  False   \n",
       "1220                False               False                  False   \n",
       "1221                False               False                  False   \n",
       "1222                False               False                  False   \n",
       "1223                False               False                  False   \n",
       "\n",
       "      Tandoor_available  biryani_available  \n",
       "0                 False              False  \n",
       "1                 False              False  \n",
       "2                 False              False  \n",
       "3                 False              False  \n",
       "4                 False              False  \n",
       "...                 ...                ...  \n",
       "1219              False              False  \n",
       "1220              False              False  \n",
       "1221              False              False  \n",
       "1222              False              False  \n",
       "1223              False              False  \n",
       "\n",
       "[1224 rows x 11 columns]"
      ]
     },
     "execution_count": 52,
     "metadata": {},
     "output_type": "execute_result"
    }
   ],
   "source": [
    "data.isnull()"
   ]
  },
  {
   "cell_type": "code",
   "execution_count": 53,
   "id": "9feecab4",
   "metadata": {},
   "outputs": [
    {
     "data": {
      "text/html": [
       "<div>\n",
       "<style scoped>\n",
       "    .dataframe tbody tr th:only-of-type {\n",
       "        vertical-align: middle;\n",
       "    }\n",
       "\n",
       "    .dataframe tbody tr th {\n",
       "        vertical-align: top;\n",
       "    }\n",
       "\n",
       "    .dataframe thead th {\n",
       "        text-align: right;\n",
       "    }\n",
       "</style>\n",
       "<table border=\"1\" class=\"dataframe\">\n",
       "  <thead>\n",
       "    <tr style=\"text-align: right;\">\n",
       "      <th></th>\n",
       "      <th>Restaurant</th>\n",
       "      <th>Type</th>\n",
       "      <th>rating</th>\n",
       "      <th>price for Two</th>\n",
       "      <th>time</th>\n",
       "      <th>Italian_available</th>\n",
       "      <th>Beverages_available</th>\n",
       "      <th>Desserts_available</th>\n",
       "      <th>Continental_available</th>\n",
       "      <th>Tandoor_available</th>\n",
       "      <th>biryani_available</th>\n",
       "    </tr>\n",
       "  </thead>\n",
       "  <tbody>\n",
       "    <tr>\n",
       "      <th>0</th>\n",
       "      <td>Meghduth Biryanis</td>\n",
       "      <td>Biryani, Andhra, South Indian, Chinese</td>\n",
       "      <td>3.9</td>\n",
       "      <td>300.0</td>\n",
       "      <td>27.0</td>\n",
       "      <td>no</td>\n",
       "      <td>no</td>\n",
       "      <td>no</td>\n",
       "      <td>no</td>\n",
       "      <td>no</td>\n",
       "      <td>yes</td>\n",
       "    </tr>\n",
       "    <tr>\n",
       "      <th>1</th>\n",
       "      <td>Mehfil</td>\n",
       "      <td>Biryani, Tandoor, Chinese, Indian, Kebabs, Des...</td>\n",
       "      <td>3.9</td>\n",
       "      <td>300.0</td>\n",
       "      <td>25.0</td>\n",
       "      <td>no</td>\n",
       "      <td>no</td>\n",
       "      <td>yes</td>\n",
       "      <td>no</td>\n",
       "      <td>yes</td>\n",
       "      <td>yes</td>\n",
       "    </tr>\n",
       "    <tr>\n",
       "      <th>2</th>\n",
       "      <td>Pista House Restaurant</td>\n",
       "      <td>Biryani, North Indian, Chinese, Kebabs, Mughla...</td>\n",
       "      <td>4.1</td>\n",
       "      <td>500.0</td>\n",
       "      <td>29.0</td>\n",
       "      <td>no</td>\n",
       "      <td>no</td>\n",
       "      <td>yes</td>\n",
       "      <td>no</td>\n",
       "      <td>yes</td>\n",
       "      <td>yes</td>\n",
       "    </tr>\n",
       "    <tr>\n",
       "      <th>3</th>\n",
       "      <td>RAJU GARI BIRYANI</td>\n",
       "      <td>Indian</td>\n",
       "      <td>3.3</td>\n",
       "      <td>200.0</td>\n",
       "      <td>33.0</td>\n",
       "      <td>no</td>\n",
       "      <td>no</td>\n",
       "      <td>no</td>\n",
       "      <td>no</td>\n",
       "      <td>no</td>\n",
       "      <td>no</td>\n",
       "    </tr>\n",
       "    <tr>\n",
       "      <th>4</th>\n",
       "      <td>Chaitanya Food Court</td>\n",
       "      <td>Biryani, Chinese, Andhra, North Indian</td>\n",
       "      <td>4.0</td>\n",
       "      <td>600.0</td>\n",
       "      <td>34.0</td>\n",
       "      <td>no</td>\n",
       "      <td>no</td>\n",
       "      <td>no</td>\n",
       "      <td>no</td>\n",
       "      <td>no</td>\n",
       "      <td>yes</td>\n",
       "    </tr>\n",
       "    <tr>\n",
       "      <th>...</th>\n",
       "      <td>...</td>\n",
       "      <td>...</td>\n",
       "      <td>...</td>\n",
       "      <td>...</td>\n",
       "      <td>...</td>\n",
       "      <td>...</td>\n",
       "      <td>...</td>\n",
       "      <td>...</td>\n",
       "      <td>...</td>\n",
       "      <td>...</td>\n",
       "      <td>...</td>\n",
       "    </tr>\n",
       "    <tr>\n",
       "      <th>1219</th>\n",
       "      <td>SRINIDHI RESTAURANT</td>\n",
       "      <td>South Indian, North Indian, Biryani, Chinese</td>\n",
       "      <td>3.9</td>\n",
       "      <td>390.0</td>\n",
       "      <td>41.0</td>\n",
       "      <td>no</td>\n",
       "      <td>no</td>\n",
       "      <td>no</td>\n",
       "      <td>no</td>\n",
       "      <td>no</td>\n",
       "      <td>yes</td>\n",
       "    </tr>\n",
       "    <tr>\n",
       "      <th>1220</th>\n",
       "      <td>Hotel Swagath Residency - Dhanturi Group of Ho...</td>\n",
       "      <td>Biryani, Tandoor, Chinese, Seafood, Beverages,...</td>\n",
       "      <td>3.9</td>\n",
       "      <td>500.0</td>\n",
       "      <td>53.0</td>\n",
       "      <td>no</td>\n",
       "      <td>yes</td>\n",
       "      <td>yes</td>\n",
       "      <td>no</td>\n",
       "      <td>yes</td>\n",
       "      <td>yes</td>\n",
       "    </tr>\n",
       "    <tr>\n",
       "      <th>1221</th>\n",
       "      <td>Indiana Burgers</td>\n",
       "      <td>American, Desserts, Fast Food</td>\n",
       "      <td>3.9</td>\n",
       "      <td>150.0</td>\n",
       "      <td>42.0</td>\n",
       "      <td>no</td>\n",
       "      <td>no</td>\n",
       "      <td>yes</td>\n",
       "      <td>no</td>\n",
       "      <td>no</td>\n",
       "      <td>no</td>\n",
       "    </tr>\n",
       "    <tr>\n",
       "      <th>1222</th>\n",
       "      <td>JAIN KITCHEN PURE VEGETARIAN  RESTAURANT</td>\n",
       "      <td>North Indian, South Indian, Jain, Chinese, Tan...</td>\n",
       "      <td>3.9</td>\n",
       "      <td>400.0</td>\n",
       "      <td>47.0</td>\n",
       "      <td>no</td>\n",
       "      <td>no</td>\n",
       "      <td>no</td>\n",
       "      <td>no</td>\n",
       "      <td>yes</td>\n",
       "      <td>no</td>\n",
       "    </tr>\n",
       "    <tr>\n",
       "      <th>1223</th>\n",
       "      <td>Warm N Spice</td>\n",
       "      <td>Indian, Chinese, Tandoor</td>\n",
       "      <td>3.9</td>\n",
       "      <td>399.0</td>\n",
       "      <td>42.0</td>\n",
       "      <td>no</td>\n",
       "      <td>no</td>\n",
       "      <td>no</td>\n",
       "      <td>no</td>\n",
       "      <td>yes</td>\n",
       "      <td>no</td>\n",
       "    </tr>\n",
       "  </tbody>\n",
       "</table>\n",
       "<p>958 rows × 11 columns</p>\n",
       "</div>"
      ],
      "text/plain": [
       "                                             Restaurant  \\\n",
       "0                                     Meghduth Biryanis   \n",
       "1                                                Mehfil   \n",
       "2                                Pista House Restaurant   \n",
       "3                                     RAJU GARI BIRYANI   \n",
       "4                                  Chaitanya Food Court   \n",
       "...                                                 ...   \n",
       "1219                                SRINIDHI RESTAURANT   \n",
       "1220  Hotel Swagath Residency - Dhanturi Group of Ho...   \n",
       "1221                                    Indiana Burgers   \n",
       "1222           JAIN KITCHEN PURE VEGETARIAN  RESTAURANT   \n",
       "1223                                       Warm N Spice   \n",
       "\n",
       "                                                   Type  rating  \\\n",
       "0                Biryani, Andhra, South Indian, Chinese     3.9   \n",
       "1     Biryani, Tandoor, Chinese, Indian, Kebabs, Des...     3.9   \n",
       "2     Biryani, North Indian, Chinese, Kebabs, Mughla...     4.1   \n",
       "3                                                Indian     3.3   \n",
       "4                Biryani, Chinese, Andhra, North Indian     4.0   \n",
       "...                                                 ...     ...   \n",
       "1219       South Indian, North Indian, Biryani, Chinese     3.9   \n",
       "1220  Biryani, Tandoor, Chinese, Seafood, Beverages,...     3.9   \n",
       "1221                      American, Desserts, Fast Food     3.9   \n",
       "1222  North Indian, South Indian, Jain, Chinese, Tan...     3.9   \n",
       "1223                           Indian, Chinese, Tandoor     3.9   \n",
       "\n",
       "      price for Two  time Italian_available Beverages_available  \\\n",
       "0             300.0  27.0                no                  no   \n",
       "1             300.0  25.0                no                  no   \n",
       "2             500.0  29.0                no                  no   \n",
       "3             200.0  33.0                no                  no   \n",
       "4             600.0  34.0                no                  no   \n",
       "...             ...   ...               ...                 ...   \n",
       "1219          390.0  41.0                no                  no   \n",
       "1220          500.0  53.0                no                 yes   \n",
       "1221          150.0  42.0                no                  no   \n",
       "1222          400.0  47.0                no                  no   \n",
       "1223          399.0  42.0                no                  no   \n",
       "\n",
       "     Desserts_available Continental_available Tandoor_available  \\\n",
       "0                    no                    no                no   \n",
       "1                   yes                    no               yes   \n",
       "2                   yes                    no               yes   \n",
       "3                    no                    no                no   \n",
       "4                    no                    no                no   \n",
       "...                 ...                   ...               ...   \n",
       "1219                 no                    no                no   \n",
       "1220                yes                    no               yes   \n",
       "1221                yes                    no                no   \n",
       "1222                 no                    no               yes   \n",
       "1223                 no                    no               yes   \n",
       "\n",
       "     biryani_available  \n",
       "0                  yes  \n",
       "1                  yes  \n",
       "2                  yes  \n",
       "3                   no  \n",
       "4                  yes  \n",
       "...                ...  \n",
       "1219               yes  \n",
       "1220               yes  \n",
       "1221                no  \n",
       "1222                no  \n",
       "1223                no  \n",
       "\n",
       "[958 rows x 11 columns]"
      ]
     },
     "execution_count": 53,
     "metadata": {},
     "output_type": "execute_result"
    }
   ],
   "source": [
    "data.drop_duplicates()"
   ]
  },
  {
   "cell_type": "markdown",
   "id": "4374d6d4",
   "metadata": {},
   "source": [
    "# Analysing on the data"
   ]
  },
  {
   "cell_type": "code",
   "execution_count": 54,
   "id": "ab9a73d8",
   "metadata": {},
   "outputs": [],
   "source": [
    "data.rename(columns = {'Type':'cuisine'},inplace = True) #TYPE CHANGED TO CUISINE"
   ]
  },
  {
   "cell_type": "code",
   "execution_count": 55,
   "id": "c994665a",
   "metadata": {
    "scrolled": true
   },
   "outputs": [
    {
     "data": {
      "text/html": [
       "<div>\n",
       "<style scoped>\n",
       "    .dataframe tbody tr th:only-of-type {\n",
       "        vertical-align: middle;\n",
       "    }\n",
       "\n",
       "    .dataframe tbody tr th {\n",
       "        vertical-align: top;\n",
       "    }\n",
       "\n",
       "    .dataframe thead th {\n",
       "        text-align: right;\n",
       "    }\n",
       "</style>\n",
       "<table border=\"1\" class=\"dataframe\">\n",
       "  <thead>\n",
       "    <tr style=\"text-align: right;\">\n",
       "      <th></th>\n",
       "      <th>Restaurant</th>\n",
       "      <th>cuisine</th>\n",
       "      <th>rating</th>\n",
       "      <th>price for Two</th>\n",
       "      <th>time</th>\n",
       "      <th>Italian_available</th>\n",
       "      <th>Beverages_available</th>\n",
       "      <th>Desserts_available</th>\n",
       "      <th>Continental_available</th>\n",
       "      <th>Tandoor_available</th>\n",
       "      <th>biryani_available</th>\n",
       "    </tr>\n",
       "  </thead>\n",
       "  <tbody>\n",
       "    <tr>\n",
       "      <th>max</th>\n",
       "      <td>ratnam kitchen</td>\n",
       "      <td>Waffle, Desserts</td>\n",
       "      <td>5.0</td>\n",
       "      <td>1500.0</td>\n",
       "      <td>66.0</td>\n",
       "      <td>yes</td>\n",
       "      <td>yes</td>\n",
       "      <td>yes</td>\n",
       "      <td>yes</td>\n",
       "      <td>yes</td>\n",
       "      <td>yes</td>\n",
       "    </tr>\n",
       "    <tr>\n",
       "      <th>min</th>\n",
       "      <td>MAWWALS FOOD</td>\n",
       "      <td>American</td>\n",
       "      <td>0.0</td>\n",
       "      <td>50.0</td>\n",
       "      <td>18.0</td>\n",
       "      <td>no</td>\n",
       "      <td>no</td>\n",
       "      <td>no</td>\n",
       "      <td>no</td>\n",
       "      <td>no</td>\n",
       "      <td>no</td>\n",
       "    </tr>\n",
       "  </tbody>\n",
       "</table>\n",
       "</div>"
      ],
      "text/plain": [
       "         Restaurant           cuisine  rating  price for Two  time  \\\n",
       "max  ratnam kitchen  Waffle, Desserts     5.0         1500.0  66.0   \n",
       "min   MAWWALS FOOD           American     0.0           50.0  18.0   \n",
       "\n",
       "    Italian_available Beverages_available Desserts_available  \\\n",
       "max               yes                 yes                yes   \n",
       "min                no                  no                 no   \n",
       "\n",
       "    Continental_available Tandoor_available biryani_available  \n",
       "max                   yes               yes               yes  \n",
       "min                    no                no                no  "
      ]
     },
     "execution_count": 55,
     "metadata": {},
     "output_type": "execute_result"
    }
   ],
   "source": [
    "data.aggregate({'min','max'})# "
   ]
  },
  {
   "cell_type": "code",
   "execution_count": 56,
   "id": "85df909f",
   "metadata": {},
   "outputs": [
    {
     "data": {
      "text/html": [
       "<div>\n",
       "<style scoped>\n",
       "    .dataframe tbody tr th:only-of-type {\n",
       "        vertical-align: middle;\n",
       "    }\n",
       "\n",
       "    .dataframe tbody tr th {\n",
       "        vertical-align: top;\n",
       "    }\n",
       "\n",
       "    .dataframe thead th {\n",
       "        text-align: right;\n",
       "    }\n",
       "</style>\n",
       "<table border=\"1\" class=\"dataframe\">\n",
       "  <thead>\n",
       "    <tr style=\"text-align: right;\">\n",
       "      <th></th>\n",
       "      <th>Restaurant</th>\n",
       "      <th>cuisine</th>\n",
       "      <th>rating</th>\n",
       "      <th>price for Two</th>\n",
       "      <th>time</th>\n",
       "      <th>Italian_available</th>\n",
       "      <th>Beverages_available</th>\n",
       "      <th>Desserts_available</th>\n",
       "      <th>Continental_available</th>\n",
       "      <th>Tandoor_available</th>\n",
       "      <th>biryani_available</th>\n",
       "    </tr>\n",
       "  </thead>\n",
       "  <tbody>\n",
       "    <tr>\n",
       "      <th>0</th>\n",
       "      <td>Meghduth Biryanis</td>\n",
       "      <td>Biryani, Andhra, South Indian, Chinese</td>\n",
       "      <td>3.9</td>\n",
       "      <td>300.0</td>\n",
       "      <td>27.0</td>\n",
       "      <td>no</td>\n",
       "      <td>no</td>\n",
       "      <td>no</td>\n",
       "      <td>no</td>\n",
       "      <td>no</td>\n",
       "      <td>yes</td>\n",
       "    </tr>\n",
       "    <tr>\n",
       "      <th>1</th>\n",
       "      <td>Mehfil</td>\n",
       "      <td>Biryani, Tandoor, Chinese, Indian, Kebabs, Des...</td>\n",
       "      <td>3.9</td>\n",
       "      <td>300.0</td>\n",
       "      <td>25.0</td>\n",
       "      <td>no</td>\n",
       "      <td>no</td>\n",
       "      <td>yes</td>\n",
       "      <td>no</td>\n",
       "      <td>yes</td>\n",
       "      <td>yes</td>\n",
       "    </tr>\n",
       "    <tr>\n",
       "      <th>2</th>\n",
       "      <td>Pista House Restaurant</td>\n",
       "      <td>Biryani, North Indian, Chinese, Kebabs, Mughla...</td>\n",
       "      <td>4.1</td>\n",
       "      <td>500.0</td>\n",
       "      <td>29.0</td>\n",
       "      <td>no</td>\n",
       "      <td>no</td>\n",
       "      <td>yes</td>\n",
       "      <td>no</td>\n",
       "      <td>yes</td>\n",
       "      <td>yes</td>\n",
       "    </tr>\n",
       "    <tr>\n",
       "      <th>3</th>\n",
       "      <td>RAJU GARI BIRYANI</td>\n",
       "      <td>Indian</td>\n",
       "      <td>3.3</td>\n",
       "      <td>200.0</td>\n",
       "      <td>33.0</td>\n",
       "      <td>no</td>\n",
       "      <td>no</td>\n",
       "      <td>no</td>\n",
       "      <td>no</td>\n",
       "      <td>no</td>\n",
       "      <td>no</td>\n",
       "    </tr>\n",
       "    <tr>\n",
       "      <th>4</th>\n",
       "      <td>Chaitanya Food Court</td>\n",
       "      <td>Biryani, Chinese, Andhra, North Indian</td>\n",
       "      <td>4.0</td>\n",
       "      <td>600.0</td>\n",
       "      <td>34.0</td>\n",
       "      <td>no</td>\n",
       "      <td>no</td>\n",
       "      <td>no</td>\n",
       "      <td>no</td>\n",
       "      <td>no</td>\n",
       "      <td>yes</td>\n",
       "    </tr>\n",
       "    <tr>\n",
       "      <th>...</th>\n",
       "      <td>...</td>\n",
       "      <td>...</td>\n",
       "      <td>...</td>\n",
       "      <td>...</td>\n",
       "      <td>...</td>\n",
       "      <td>...</td>\n",
       "      <td>...</td>\n",
       "      <td>...</td>\n",
       "      <td>...</td>\n",
       "      <td>...</td>\n",
       "      <td>...</td>\n",
       "    </tr>\n",
       "    <tr>\n",
       "      <th>1219</th>\n",
       "      <td>SRINIDHI RESTAURANT</td>\n",
       "      <td>South Indian, North Indian, Biryani, Chinese</td>\n",
       "      <td>3.9</td>\n",
       "      <td>390.0</td>\n",
       "      <td>41.0</td>\n",
       "      <td>no</td>\n",
       "      <td>no</td>\n",
       "      <td>no</td>\n",
       "      <td>no</td>\n",
       "      <td>no</td>\n",
       "      <td>yes</td>\n",
       "    </tr>\n",
       "    <tr>\n",
       "      <th>1220</th>\n",
       "      <td>Hotel Swagath Residency - Dhanturi Group of Ho...</td>\n",
       "      <td>Biryani, Tandoor, Chinese, Seafood, Beverages,...</td>\n",
       "      <td>3.9</td>\n",
       "      <td>500.0</td>\n",
       "      <td>53.0</td>\n",
       "      <td>no</td>\n",
       "      <td>yes</td>\n",
       "      <td>yes</td>\n",
       "      <td>no</td>\n",
       "      <td>yes</td>\n",
       "      <td>yes</td>\n",
       "    </tr>\n",
       "    <tr>\n",
       "      <th>1221</th>\n",
       "      <td>Indiana Burgers</td>\n",
       "      <td>American, Desserts, Fast Food</td>\n",
       "      <td>3.9</td>\n",
       "      <td>150.0</td>\n",
       "      <td>42.0</td>\n",
       "      <td>no</td>\n",
       "      <td>no</td>\n",
       "      <td>yes</td>\n",
       "      <td>no</td>\n",
       "      <td>no</td>\n",
       "      <td>no</td>\n",
       "    </tr>\n",
       "    <tr>\n",
       "      <th>1222</th>\n",
       "      <td>JAIN KITCHEN PURE VEGETARIAN  RESTAURANT</td>\n",
       "      <td>North Indian, South Indian, Jain, Chinese, Tan...</td>\n",
       "      <td>3.9</td>\n",
       "      <td>400.0</td>\n",
       "      <td>47.0</td>\n",
       "      <td>no</td>\n",
       "      <td>no</td>\n",
       "      <td>no</td>\n",
       "      <td>no</td>\n",
       "      <td>yes</td>\n",
       "      <td>no</td>\n",
       "    </tr>\n",
       "    <tr>\n",
       "      <th>1223</th>\n",
       "      <td>Warm N Spice</td>\n",
       "      <td>Indian, Chinese, Tandoor</td>\n",
       "      <td>3.9</td>\n",
       "      <td>399.0</td>\n",
       "      <td>42.0</td>\n",
       "      <td>no</td>\n",
       "      <td>no</td>\n",
       "      <td>no</td>\n",
       "      <td>no</td>\n",
       "      <td>yes</td>\n",
       "      <td>no</td>\n",
       "    </tr>\n",
       "  </tbody>\n",
       "</table>\n",
       "<p>1224 rows × 11 columns</p>\n",
       "</div>"
      ],
      "text/plain": [
       "                                             Restaurant  \\\n",
       "0                                     Meghduth Biryanis   \n",
       "1                                                Mehfil   \n",
       "2                                Pista House Restaurant   \n",
       "3                                     RAJU GARI BIRYANI   \n",
       "4                                  Chaitanya Food Court   \n",
       "...                                                 ...   \n",
       "1219                                SRINIDHI RESTAURANT   \n",
       "1220  Hotel Swagath Residency - Dhanturi Group of Ho...   \n",
       "1221                                    Indiana Burgers   \n",
       "1222           JAIN KITCHEN PURE VEGETARIAN  RESTAURANT   \n",
       "1223                                       Warm N Spice   \n",
       "\n",
       "                                                cuisine  rating  \\\n",
       "0                Biryani, Andhra, South Indian, Chinese     3.9   \n",
       "1     Biryani, Tandoor, Chinese, Indian, Kebabs, Des...     3.9   \n",
       "2     Biryani, North Indian, Chinese, Kebabs, Mughla...     4.1   \n",
       "3                                                Indian     3.3   \n",
       "4                Biryani, Chinese, Andhra, North Indian     4.0   \n",
       "...                                                 ...     ...   \n",
       "1219       South Indian, North Indian, Biryani, Chinese     3.9   \n",
       "1220  Biryani, Tandoor, Chinese, Seafood, Beverages,...     3.9   \n",
       "1221                      American, Desserts, Fast Food     3.9   \n",
       "1222  North Indian, South Indian, Jain, Chinese, Tan...     3.9   \n",
       "1223                           Indian, Chinese, Tandoor     3.9   \n",
       "\n",
       "      price for Two  time Italian_available Beverages_available  \\\n",
       "0             300.0  27.0                no                  no   \n",
       "1             300.0  25.0                no                  no   \n",
       "2             500.0  29.0                no                  no   \n",
       "3             200.0  33.0                no                  no   \n",
       "4             600.0  34.0                no                  no   \n",
       "...             ...   ...               ...                 ...   \n",
       "1219          390.0  41.0                no                  no   \n",
       "1220          500.0  53.0                no                 yes   \n",
       "1221          150.0  42.0                no                  no   \n",
       "1222          400.0  47.0                no                  no   \n",
       "1223          399.0  42.0                no                  no   \n",
       "\n",
       "     Desserts_available Continental_available Tandoor_available  \\\n",
       "0                    no                    no                no   \n",
       "1                   yes                    no               yes   \n",
       "2                   yes                    no               yes   \n",
       "3                    no                    no                no   \n",
       "4                    no                    no                no   \n",
       "...                 ...                   ...               ...   \n",
       "1219                 no                    no                no   \n",
       "1220                yes                    no               yes   \n",
       "1221                yes                    no                no   \n",
       "1222                 no                    no               yes   \n",
       "1223                 no                    no               yes   \n",
       "\n",
       "     biryani_available  \n",
       "0                  yes  \n",
       "1                  yes  \n",
       "2                  yes  \n",
       "3                   no  \n",
       "4                  yes  \n",
       "...                ...  \n",
       "1219               yes  \n",
       "1220               yes  \n",
       "1221                no  \n",
       "1222                no  \n",
       "1223                no  \n",
       "\n",
       "[1224 rows x 11 columns]"
      ]
     },
     "execution_count": 56,
     "metadata": {},
     "output_type": "execute_result"
    }
   ],
   "source": [
    "data"
   ]
  },
  {
   "cell_type": "markdown",
   "id": "728888b0",
   "metadata": {},
   "source": [
    "### Univariate\n",
    "    statistical analysis about each individual column (describe)\n",
    "    - Numerical\n",
    "        - distplot,displot,kdeplot,boxplot, histogram\n",
    "    - Categorical\n",
    "        - pieplot, countplot\n",
    "        \n",
    "### Bivariate\n",
    "    statistical analysis using groupby and pivottable\n",
    "    - Numerical and Numerical\n",
    "        - relplot, scatterplot,regplot\n",
    "    - Numerical and categorical\n",
    "        - boxplot, barplot, lineplot, swarmplot, violinplot\n",
    "        "
   ]
  },
  {
   "cell_type": "markdown",
   "id": "8d282c61",
   "metadata": {},
   "source": [
    "# Statistical analysis  \n",
    "of  each column"
   ]
  },
  {
   "cell_type": "markdown",
   "id": "a7d9beeb",
   "metadata": {},
   "source": [
    "UNIVARIATE"
   ]
  },
  {
   "cell_type": "code",
   "execution_count": 57,
   "id": "b47a0980",
   "metadata": {
    "scrolled": true
   },
   "outputs": [
    {
     "data": {
      "text/html": [
       "<div>\n",
       "<style scoped>\n",
       "    .dataframe tbody tr th:only-of-type {\n",
       "        vertical-align: middle;\n",
       "    }\n",
       "\n",
       "    .dataframe tbody tr th {\n",
       "        vertical-align: top;\n",
       "    }\n",
       "\n",
       "    .dataframe thead th {\n",
       "        text-align: right;\n",
       "    }\n",
       "</style>\n",
       "<table border=\"1\" class=\"dataframe\">\n",
       "  <thead>\n",
       "    <tr style=\"text-align: right;\">\n",
       "      <th></th>\n",
       "      <th>rating</th>\n",
       "      <th>price for Two</th>\n",
       "      <th>time</th>\n",
       "    </tr>\n",
       "  </thead>\n",
       "  <tbody>\n",
       "    <tr>\n",
       "      <th>count</th>\n",
       "      <td>1224.000000</td>\n",
       "      <td>1224.000000</td>\n",
       "      <td>1224.000000</td>\n",
       "    </tr>\n",
       "    <tr>\n",
       "      <th>mean</th>\n",
       "      <td>3.631944</td>\n",
       "      <td>353.828431</td>\n",
       "      <td>36.003268</td>\n",
       "    </tr>\n",
       "    <tr>\n",
       "      <th>std</th>\n",
       "      <td>1.226900</td>\n",
       "      <td>211.133479</td>\n",
       "      <td>7.493251</td>\n",
       "    </tr>\n",
       "    <tr>\n",
       "      <th>min</th>\n",
       "      <td>0.000000</td>\n",
       "      <td>50.000000</td>\n",
       "      <td>18.000000</td>\n",
       "    </tr>\n",
       "    <tr>\n",
       "      <th>25%</th>\n",
       "      <td>3.800000</td>\n",
       "      <td>200.000000</td>\n",
       "      <td>31.000000</td>\n",
       "    </tr>\n",
       "    <tr>\n",
       "      <th>50%</th>\n",
       "      <td>4.000000</td>\n",
       "      <td>300.000000</td>\n",
       "      <td>36.000000</td>\n",
       "    </tr>\n",
       "    <tr>\n",
       "      <th>75%</th>\n",
       "      <td>4.200000</td>\n",
       "      <td>400.000000</td>\n",
       "      <td>41.000000</td>\n",
       "    </tr>\n",
       "    <tr>\n",
       "      <th>max</th>\n",
       "      <td>5.000000</td>\n",
       "      <td>1500.000000</td>\n",
       "      <td>66.000000</td>\n",
       "    </tr>\n",
       "  </tbody>\n",
       "</table>\n",
       "</div>"
      ],
      "text/plain": [
       "            rating  price for Two         time\n",
       "count  1224.000000    1224.000000  1224.000000\n",
       "mean      3.631944     353.828431    36.003268\n",
       "std       1.226900     211.133479     7.493251\n",
       "min       0.000000      50.000000    18.000000\n",
       "25%       3.800000     200.000000    31.000000\n",
       "50%       4.000000     300.000000    36.000000\n",
       "75%       4.200000     400.000000    41.000000\n",
       "max       5.000000    1500.000000    66.000000"
      ]
     },
     "execution_count": 57,
     "metadata": {},
     "output_type": "execute_result"
    }
   ],
   "source": [
    "data.describe()"
   ]
  },
  {
   "cell_type": "code",
   "execution_count": 59,
   "id": "0840c351",
   "metadata": {},
   "outputs": [
    {
     "data": {
      "text/plain": [
       "count    1224.000000\n",
       "mean      353.828431\n",
       "std       211.133479\n",
       "min        50.000000\n",
       "25%       200.000000\n",
       "50%       300.000000\n",
       "75%       400.000000\n",
       "max      1500.000000\n",
       "Name: price for Two, dtype: float64"
      ]
     },
     "execution_count": 59,
     "metadata": {},
     "output_type": "execute_result"
    }
   ],
   "source": [
    "data['price for Two'].describe()"
   ]
  },
  {
   "cell_type": "code",
   "execution_count": 60,
   "id": "d1b8d75e",
   "metadata": {},
   "outputs": [
    {
     "data": {
      "text/plain": [
       "count    1224.000000\n",
       "mean       36.003268\n",
       "std         7.493251\n",
       "min        18.000000\n",
       "25%        31.000000\n",
       "50%        36.000000\n",
       "75%        41.000000\n",
       "max        66.000000\n",
       "Name: time, dtype: float64"
      ]
     },
     "execution_count": 60,
     "metadata": {},
     "output_type": "execute_result"
    }
   ],
   "source": [
    "data['time'].describe()"
   ]
  },
  {
   "cell_type": "code",
   "execution_count": 61,
   "id": "2776438c",
   "metadata": {},
   "outputs": [
    {
     "data": {
      "text/plain": [
       "count     1224\n",
       "unique       2\n",
       "top         no\n",
       "freq      1172\n",
       "Name: Italian_available, dtype: object"
      ]
     },
     "execution_count": 61,
     "metadata": {},
     "output_type": "execute_result"
    }
   ],
   "source": [
    "data['Italian_available'].describe()"
   ]
  },
  {
   "cell_type": "code",
   "execution_count": 62,
   "id": "21b44236",
   "metadata": {},
   "outputs": [
    {
     "data": {
      "text/plain": [
       "count     1224\n",
       "unique       2\n",
       "top         no\n",
       "freq      1024\n",
       "Name: Beverages_available, dtype: object"
      ]
     },
     "execution_count": 62,
     "metadata": {},
     "output_type": "execute_result"
    }
   ],
   "source": [
    "data['Beverages_available'].describe()"
   ]
  },
  {
   "cell_type": "code",
   "execution_count": 63,
   "id": "9331c7aa",
   "metadata": {},
   "outputs": [
    {
     "data": {
      "text/plain": [
       "count     1224\n",
       "unique       2\n",
       "top         no\n",
       "freq       977\n",
       "Name: Desserts_available, dtype: object"
      ]
     },
     "execution_count": 63,
     "metadata": {},
     "output_type": "execute_result"
    }
   ],
   "source": [
    "data['Desserts_available'].describe()"
   ]
  },
  {
   "cell_type": "code",
   "execution_count": 64,
   "id": "941bfc30",
   "metadata": {},
   "outputs": [
    {
     "data": {
      "text/plain": [
       "count     1224\n",
       "unique       2\n",
       "top         no\n",
       "freq      1153\n",
       "Name: Continental_available, dtype: object"
      ]
     },
     "execution_count": 64,
     "metadata": {},
     "output_type": "execute_result"
    }
   ],
   "source": [
    "data['Continental_available'].describe()"
   ]
  },
  {
   "cell_type": "code",
   "execution_count": 65,
   "id": "2d79ecca",
   "metadata": {},
   "outputs": [
    {
     "data": {
      "text/plain": [
       "count     1224\n",
       "unique       2\n",
       "top         no\n",
       "freq      1124\n",
       "Name: Tandoor_available, dtype: object"
      ]
     },
     "execution_count": 65,
     "metadata": {},
     "output_type": "execute_result"
    }
   ],
   "source": [
    "data['Tandoor_available'].describe()"
   ]
  },
  {
   "cell_type": "code",
   "execution_count": 66,
   "id": "0f95c508",
   "metadata": {},
   "outputs": [
    {
     "data": {
      "text/plain": [
       "count     1224\n",
       "unique       2\n",
       "top         no\n",
       "freq       877\n",
       "Name: biryani_available, dtype: object"
      ]
     },
     "execution_count": 66,
     "metadata": {},
     "output_type": "execute_result"
    }
   ],
   "source": [
    "data['biryani_available'].describe()"
   ]
  },
  {
   "cell_type": "code",
   "execution_count": 67,
   "id": "f6b0fc04",
   "metadata": {},
   "outputs": [
    {
     "data": {
      "text/plain": [
       "count                           1224\n",
       "unique                           737\n",
       "top       Shree Santosh Family Dhaba\n",
       "freq                               5\n",
       "Name: Restaurant, dtype: object"
      ]
     },
     "execution_count": 67,
     "metadata": {},
     "output_type": "execute_result"
    }
   ],
   "source": [
    "data['Restaurant'].describe()"
   ]
  },
  {
   "cell_type": "code",
   "execution_count": 68,
   "id": "8edbe6f2",
   "metadata": {},
   "outputs": [
    {
     "data": {
      "text/plain": [
       "count             1224\n",
       "unique             485\n",
       "top       North Indian\n",
       "freq                39\n",
       "Name: cuisine, dtype: object"
      ]
     },
     "execution_count": 68,
     "metadata": {},
     "output_type": "execute_result"
    }
   ],
   "source": [
    "data['cuisine'].describe()"
   ]
  },
  {
   "cell_type": "markdown",
   "id": "846a13eb",
   "metadata": {},
   "source": [
    "UNIVARIATE\n",
    "    \n",
    "Numerical\n"
   ]
  },
  {
   "cell_type": "markdown",
   "id": "4a1b46c0",
   "metadata": {},
   "source": [
    "# Visualization"
   ]
  },
  {
   "cell_type": "markdown",
   "id": "5785185a",
   "metadata": {},
   "source": [
    "Rating"
   ]
  },
  {
   "cell_type": "code",
   "execution_count": 58,
   "id": "6b00317f",
   "metadata": {},
   "outputs": [
    {
     "data": {
      "text/plain": [
       "count    1224.000000\n",
       "mean        3.631944\n",
       "std         1.226900\n",
       "min         0.000000\n",
       "25%         3.800000\n",
       "50%         4.000000\n",
       "75%         4.200000\n",
       "max         5.000000\n",
       "Name: rating, dtype: float64"
      ]
     },
     "execution_count": 58,
     "metadata": {},
     "output_type": "execute_result"
    }
   ],
   "source": [
    "data['rating'].describe()"
   ]
  },
  {
   "cell_type": "code",
   "execution_count": 69,
   "id": "c5aa6c4a",
   "metadata": {},
   "outputs": [
    {
     "data": {
      "text/plain": [
       "<Figure size 432x432 with 0 Axes>"
      ]
     },
     "metadata": {},
     "output_type": "display_data"
    },
    {
     "data": {
      "image/png": "[encoded data removed]",
      "text/plain": [
       "<Figure size 360x360 with 1 Axes>"
      ]
     },
     "metadata": {},
     "output_type": "display_data"
    }
   ],
   "source": [
    "plt.figure(figsize = (6,6))# doubt\n",
    "sns.set_style('white')\n",
    "sns.displot(x='rating',data = data,color = 'g')\n",
    "plt.grid(True)\n",
    "plt.show()"
   ]
  },
  {
   "cell_type": "markdown",
   "id": "17f526a8",
   "metadata": {},
   "source": [
    "Observation: from the above plot we can see 4.0 marks the highest ."
   ]
  },
  {
   "cell_type": "code",
   "execution_count": 75,
   "id": "de404637",
   "metadata": {
    "scrolled": false
   },
   "outputs": [
    {
     "data": {
      "image/png": "[encoded data removed]",
      "text/plain": [
       "<Figure size 432x432 with 1 Axes>"
      ]
     },
     "metadata": {},
     "output_type": "display_data"
    }
   ],
   "source": [
    "plt.figure(figsize=(6,6))\n",
    "sns.set_style('white')\n",
    "plt.hist(data['rating'][:10],bins = 10,color = 'b')\n",
    "plt.xlabel('Rating')\n",
    "plt.ylabel('count')\n",
    "plt.show()"
   ]
  },
  {
   "cell_type": "markdown",
   "id": "c4e19589",
   "metadata": {},
   "source": [
    "observation:\n",
    "    From above plot 3.8 - 4.0 ratings are high."
   ]
  },
  {
   "cell_type": "code",
   "execution_count": 76,
   "id": "7e8e0845",
   "metadata": {},
   "outputs": [
    {
     "data": {
      "image/png": "[encoded data removed]",
      "text/plain": [
       "<Figure size 576x432 with 1 Axes>"
      ]
     },
     "metadata": {},
     "output_type": "display_data"
    }
   ],
   "source": [
    "plt.figure(figsize=(8,6))\n",
    "sns.set_style('white')\n",
    "sns.countplot(data['rating'])\n",
    "plt.show()"
   ]
  },
  {
   "cell_type": "code",
   "execution_count": 73,
   "id": "54f0e4eb",
   "metadata": {},
   "outputs": [
    {
     "data": {
      "image/png": "[encoded data removed]",
      "text/plain": [
       "<Figure size 504x576 with 1 Axes>"
      ]
     },
     "metadata": {},
     "output_type": "display_data"
    }
   ],
   "source": [
    "plt.figure(figsize=(7,8))\n",
    "sns.set_style('dark')\n",
    "sns.distplot(data['rating'])\n",
    "plt.grid(True)\n",
    "plt.show()"
   ]
  },
  {
   "cell_type": "markdown",
   "id": "39385016",
   "metadata": {},
   "source": [
    "Observation: Most of the 4.0 rating restauarants are high ."
   ]
  },
  {
   "cell_type": "markdown",
   "id": "25deae5f",
   "metadata": {},
   "source": [
    "TIME "
   ]
  },
  {
   "cell_type": "code",
   "execution_count": 70,
   "id": "c3a2e746",
   "metadata": {
    "scrolled": true
   },
   "outputs": [
    {
     "data": {
      "text/plain": [
       "<Figure size 648x504 with 0 Axes>"
      ]
     },
     "metadata": {},
     "output_type": "display_data"
    },
    {
     "data": {
      "image/png": "[encoded data removed]",
      "text/plain": [
       "<Figure size 360x360 with 1 Axes>"
      ]
     },
     "metadata": {},
     "output_type": "display_data"
    }
   ],
   "source": [
    "plt.figure(figsize=(9,7))\n",
    "sns.set_style('white')\n",
    "sns.displot(x = 'time',data = data,color = 'gray')\n",
    "plt.xlabel('Time')\n",
    "plt.grid(True)\n",
    "plt.show()\n"
   ]
  },
  {
   "cell_type": "markdown",
   "id": "0a1b1ba2",
   "metadata": {},
   "source": [
    "Observation: From the above visuals the food deliver take upto 30mins & maximun 40 mins of time to reach . "
   ]
  },
  {
   "cell_type": "code",
   "execution_count": 74,
   "id": "48c42b52",
   "metadata": {
    "scrolled": false
   },
   "outputs": [
    {
     "data": {
      "image/png": "[encoded data removed]",
      "text/plain": [
       "<Figure size 576x576 with 1 Axes>"
      ]
     },
     "metadata": {},
     "output_type": "display_data"
    }
   ],
   "source": [
    "plt.figure(figsize=(8,8))\n",
    "sns.set_style('dark')\n",
    "sns.distplot(data['time'],color = 'k')\n",
    "plt.show()"
   ]
  },
  {
   "cell_type": "markdown",
   "id": "fe5cbbcb",
   "metadata": {},
   "source": [
    "PRICE FOR TWO"
   ]
  },
  {
   "cell_type": "code",
   "execution_count": 71,
   "id": "797f0688",
   "metadata": {},
   "outputs": [
    {
     "data": {
      "text/plain": [
       "<Figure size 648x360 with 0 Axes>"
      ]
     },
     "metadata": {},
     "output_type": "display_data"
    },
    {
     "data": {
      "image/png": "[encoded data removed]",
      "text/plain": [
       "<Figure size 360x360 with 1 Axes>"
      ]
     },
     "metadata": {},
     "output_type": "display_data"
    }
   ],
   "source": [
    "plt.figure(figsize = (9,5))\n",
    "sns.set_style('white')\n",
    "sns.displot(x = 'price for Two',data = data,color = 'r')\n",
    "plt.grid(True)\n",
    "plt.show()"
   ]
  },
  {
   "cell_type": "markdown",
   "id": "863eed6d",
   "metadata": {},
   "source": [
    "Observation: From the above plot we can see cost of food is around 300$ for two persons."
   ]
  },
  {
   "cell_type": "code",
   "execution_count": 72,
   "id": "e95cc319",
   "metadata": {},
   "outputs": [
    {
     "data": {
      "image/png": "[encoded data removed]",
      "text/plain": [
       "<Figure size 432x432 with 1 Axes>"
      ]
     },
     "metadata": {},
     "output_type": "display_data"
    }
   ],
   "source": [
    "plt.figure(figsize= (6,6))\n",
    "sns.set_style('white')\n",
    "sns.distplot(data['price for Two'])\n",
    "plt.grid(True)\n",
    "plt.show()"
   ]
  },
  {
   "cell_type": "markdown",
   "id": "0bd77980",
   "metadata": {},
   "source": [
    "Observation: From the above plot we can see 300$ in most of the Restaurants for two persons."
   ]
  },
  {
   "cell_type": "code",
   "execution_count": 77,
   "id": "cac8b8b9",
   "metadata": {},
   "outputs": [
    {
     "data": {
      "image/png": "[encoded data removed]",
      "text/plain": [
       "<Figure size 360x432 with 1 Axes>"
      ]
     },
     "metadata": {},
     "output_type": "display_data"
    }
   ],
   "source": [
    "plt.figure(figsize = (5,6))\n",
    "sns.countplot(data['biryani_available'])\n",
    "plt.grid(True)\n",
    "plt.show()"
   ]
  },
  {
   "cell_type": "markdown",
   "id": "a283ba15",
   "metadata": {},
   "source": [
    "interpretation: from above plot restaurants that serve biryani are less."
   ]
  },
  {
   "cell_type": "code",
   "execution_count": 79,
   "id": "d55a5dbb",
   "metadata": {},
   "outputs": [
    {
     "data": {
      "image/png": "[encoded data removed]",
      "text/plain": [
       "<Figure size 432x288 with 1 Axes>"
      ]
     },
     "metadata": {},
     "output_type": "display_data"
    }
   ],
   "source": [
    "sns.set_style('dark')\n",
    "sns.countplot(x = 'Tandoor_available',data=data)\n",
    "plt.grid(True)\n",
    "plt.show()"
   ]
  },
  {
   "cell_type": "markdown",
   "id": "acc8e774",
   "metadata": {},
   "source": [
    "interpretation:\n",
    "    from the above plot Tandoor food is less."
   ]
  },
  {
   "cell_type": "code",
   "execution_count": 80,
   "id": "acc67c9f",
   "metadata": {},
   "outputs": [
    {
     "data": {
      "image/png": "[encoded data removed]",
      "text/plain": [
       "<Figure size 432x288 with 1 Axes>"
      ]
     },
     "metadata": {},
     "output_type": "display_data"
    }
   ],
   "source": [
    "sns.set_style('dark')\n",
    "plt.pie(data['Italian_available'].value_counts(),labels =data['Italian_available'].value_counts().index,\n",
    "        autopct ='%.2f%%')\n",
    "plt.xlabel('Italian_available')\n",
    "plt.grid(True)\n",
    "plt.show()"
   ]
  },
  {
   "cell_type": "markdown",
   "id": "fbd28659",
   "metadata": {},
   "source": [
    "interpretation: form above plot we can see Italian food is less in serves."
   ]
  },
  {
   "cell_type": "code",
   "execution_count": 81,
   "id": "40b9ac55",
   "metadata": {},
   "outputs": [
    {
     "data": {
      "image/png": "[encoded data removed]",
      "text/plain": [
       "<Figure size 432x288 with 1 Axes>"
      ]
     },
     "metadata": {},
     "output_type": "display_data"
    }
   ],
   "source": [
    "sns.set_style('white')\n",
    "plt.pie(data['Beverages_available'].value_counts(),labels=data['Beverages_available'].value_counts().index,\n",
    "       autopct='%.2f%%')\n",
    "plt.xlabel('Beverages_available')\n",
    "plt.grid(True)\n",
    "plt.show()"
   ]
  },
  {
   "cell_type": "markdown",
   "id": "33a1b40b",
   "metadata": {},
   "source": [
    "interpretation: from above plot only 18.33% of Beverages available "
   ]
  },
  {
   "cell_type": "code",
   "execution_count": 82,
   "id": "4335f103",
   "metadata": {},
   "outputs": [
    {
     "data": {
      "text/plain": [
       "<seaborn.axisgrid.FacetGrid at 0x7f8efd6f9970>"
      ]
     },
     "execution_count": 82,
     "metadata": {},
     "output_type": "execute_result"
    },
    {
     "data": {
      "image/png": "[encoded data removed]",
      "text/plain": [
       "<Figure size 360x360 with 1 Axes>"
      ]
     },
     "metadata": {},
     "output_type": "display_data"
    }
   ],
   "source": [
    "sns.relplot(data['Desserts_available'],data['Restaurant'][:20])"
   ]
  },
  {
   "cell_type": "markdown",
   "id": "6d9bf702",
   "metadata": {},
   "source": [
    "Interpretation : only few Restaurants serves desserts."
   ]
  },
  {
   "cell_type": "markdown",
   "id": "356e5351",
   "metadata": {},
   "source": [
    "# Bivariate \n",
    "\n",
    "numerical\n",
    " &\n",
    "categorical visuals\n"
   ]
  },
  {
   "cell_type": "code",
   "execution_count": 83,
   "id": "4760775e",
   "metadata": {},
   "outputs": [
    {
     "data": {
      "text/html": [
       "<div>\n",
       "<style scoped>\n",
       "    .dataframe tbody tr th:only-of-type {\n",
       "        vertical-align: middle;\n",
       "    }\n",
       "\n",
       "    .dataframe tbody tr th {\n",
       "        vertical-align: top;\n",
       "    }\n",
       "\n",
       "    .dataframe thead th {\n",
       "        text-align: right;\n",
       "    }\n",
       "</style>\n",
       "<table border=\"1\" class=\"dataframe\">\n",
       "  <thead>\n",
       "    <tr style=\"text-align: right;\">\n",
       "      <th></th>\n",
       "      <th>rating</th>\n",
       "      <th>price for Two</th>\n",
       "      <th>time</th>\n",
       "    </tr>\n",
       "    <tr>\n",
       "      <th>Italian_available</th>\n",
       "      <th></th>\n",
       "      <th></th>\n",
       "      <th></th>\n",
       "    </tr>\n",
       "  </thead>\n",
       "  <tbody>\n",
       "    <tr>\n",
       "      <th>no</th>\n",
       "      <td>4250.9</td>\n",
       "      <td>406337.0</td>\n",
       "      <td>42005.0</td>\n",
       "    </tr>\n",
       "    <tr>\n",
       "      <th>yes</th>\n",
       "      <td>194.6</td>\n",
       "      <td>26749.0</td>\n",
       "      <td>2063.0</td>\n",
       "    </tr>\n",
       "  </tbody>\n",
       "</table>\n",
       "</div>"
      ],
      "text/plain": [
       "                   rating  price for Two     time\n",
       "Italian_available                                \n",
       "no                 4250.9       406337.0  42005.0\n",
       "yes                 194.6        26749.0   2063.0"
      ]
     },
     "execution_count": 83,
     "metadata": {},
     "output_type": "execute_result"
    }
   ],
   "source": [
    "data.groupby('Italian_available').sum()"
   ]
  },
  {
   "cell_type": "code",
   "execution_count": 84,
   "id": "acf23a43",
   "metadata": {},
   "outputs": [
    {
     "data": {
      "text/html": [
       "<div>\n",
       "<style scoped>\n",
       "    .dataframe tbody tr th:only-of-type {\n",
       "        vertical-align: middle;\n",
       "    }\n",
       "\n",
       "    .dataframe tbody tr th {\n",
       "        vertical-align: top;\n",
       "    }\n",
       "\n",
       "    .dataframe thead th {\n",
       "        text-align: right;\n",
       "    }\n",
       "</style>\n",
       "<table border=\"1\" class=\"dataframe\">\n",
       "  <thead>\n",
       "    <tr style=\"text-align: right;\">\n",
       "      <th></th>\n",
       "      <th>rating</th>\n",
       "      <th>price for Two</th>\n",
       "      <th>time</th>\n",
       "    </tr>\n",
       "    <tr>\n",
       "      <th>Tandoor_available</th>\n",
       "      <th></th>\n",
       "      <th></th>\n",
       "      <th></th>\n",
       "    </tr>\n",
       "  </thead>\n",
       "  <tbody>\n",
       "    <tr>\n",
       "      <th>no</th>\n",
       "      <td>3.62758</td>\n",
       "      <td>341.733096</td>\n",
       "      <td>35.854093</td>\n",
       "    </tr>\n",
       "    <tr>\n",
       "      <th>yes</th>\n",
       "      <td>3.68100</td>\n",
       "      <td>489.780000</td>\n",
       "      <td>37.680000</td>\n",
       "    </tr>\n",
       "  </tbody>\n",
       "</table>\n",
       "</div>"
      ],
      "text/plain": [
       "                    rating  price for Two       time\n",
       "Tandoor_available                                   \n",
       "no                 3.62758     341.733096  35.854093\n",
       "yes                3.68100     489.780000  37.680000"
      ]
     },
     "execution_count": 84,
     "metadata": {},
     "output_type": "execute_result"
    }
   ],
   "source": [
    "data.groupby('Tandoor_available').mean()"
   ]
  },
  {
   "cell_type": "code",
   "execution_count": 85,
   "id": "1c1fa095",
   "metadata": {},
   "outputs": [
    {
     "data": {
      "text/html": [
       "<div>\n",
       "<style scoped>\n",
       "    .dataframe tbody tr th:only-of-type {\n",
       "        vertical-align: middle;\n",
       "    }\n",
       "\n",
       "    .dataframe tbody tr th {\n",
       "        vertical-align: top;\n",
       "    }\n",
       "\n",
       "    .dataframe thead th {\n",
       "        text-align: right;\n",
       "    }\n",
       "</style>\n",
       "<table border=\"1\" class=\"dataframe\">\n",
       "  <thead>\n",
       "    <tr style=\"text-align: right;\">\n",
       "      <th></th>\n",
       "      <th>rating</th>\n",
       "      <th>price for Two</th>\n",
       "      <th>time</th>\n",
       "    </tr>\n",
       "    <tr>\n",
       "      <th>Desserts_available</th>\n",
       "      <th></th>\n",
       "      <th></th>\n",
       "      <th></th>\n",
       "    </tr>\n",
       "  </thead>\n",
       "  <tbody>\n",
       "    <tr>\n",
       "      <th>no</th>\n",
       "      <td>3.546059</td>\n",
       "      <td>346.590583</td>\n",
       "      <td>36.376663</td>\n",
       "    </tr>\n",
       "    <tr>\n",
       "      <th>yes</th>\n",
       "      <td>3.971660</td>\n",
       "      <td>382.457490</td>\n",
       "      <td>34.526316</td>\n",
       "    </tr>\n",
       "  </tbody>\n",
       "</table>\n",
       "</div>"
      ],
      "text/plain": [
       "                      rating  price for Two       time\n",
       "Desserts_available                                    \n",
       "no                  3.546059     346.590583  36.376663\n",
       "yes                 3.971660     382.457490  34.526316"
      ]
     },
     "execution_count": 85,
     "metadata": {},
     "output_type": "execute_result"
    }
   ],
   "source": [
    "data.groupby('Desserts_available').mean()"
   ]
  },
  {
   "cell_type": "code",
   "execution_count": 86,
   "id": "5bd90d74",
   "metadata": {},
   "outputs": [
    {
     "data": {
      "text/html": [
       "<div>\n",
       "<style scoped>\n",
       "    .dataframe tbody tr th:only-of-type {\n",
       "        vertical-align: middle;\n",
       "    }\n",
       "\n",
       "    .dataframe tbody tr th {\n",
       "        vertical-align: top;\n",
       "    }\n",
       "\n",
       "    .dataframe thead th {\n",
       "        text-align: right;\n",
       "    }\n",
       "</style>\n",
       "<table border=\"1\" class=\"dataframe\">\n",
       "  <thead>\n",
       "    <tr style=\"text-align: right;\">\n",
       "      <th></th>\n",
       "      <th></th>\n",
       "      <th>mean</th>\n",
       "    </tr>\n",
       "    <tr>\n",
       "      <th>biryani_available</th>\n",
       "      <th>time</th>\n",
       "      <th></th>\n",
       "    </tr>\n",
       "  </thead>\n",
       "  <tbody>\n",
       "    <tr>\n",
       "      <th rowspan=\"5\" valign=\"top\">no</th>\n",
       "      <th>18.0</th>\n",
       "      <td>4.000000</td>\n",
       "    </tr>\n",
       "    <tr>\n",
       "      <th>19.0</th>\n",
       "      <td>4.050000</td>\n",
       "    </tr>\n",
       "    <tr>\n",
       "      <th>20.0</th>\n",
       "      <td>4.376923</td>\n",
       "    </tr>\n",
       "    <tr>\n",
       "      <th>21.0</th>\n",
       "      <td>4.166667</td>\n",
       "    </tr>\n",
       "    <tr>\n",
       "      <th>22.0</th>\n",
       "      <td>4.275000</td>\n",
       "    </tr>\n",
       "    <tr>\n",
       "      <th>...</th>\n",
       "      <th>...</th>\n",
       "      <td>...</td>\n",
       "    </tr>\n",
       "    <tr>\n",
       "      <th rowspan=\"5\" valign=\"top\">yes</th>\n",
       "      <th>55.0</th>\n",
       "      <td>3.750000</td>\n",
       "    </tr>\n",
       "    <tr>\n",
       "      <th>61.0</th>\n",
       "      <td>3.900000</td>\n",
       "    </tr>\n",
       "    <tr>\n",
       "      <th>63.0</th>\n",
       "      <td>4.200000</td>\n",
       "    </tr>\n",
       "    <tr>\n",
       "      <th>64.0</th>\n",
       "      <td>2.100000</td>\n",
       "    </tr>\n",
       "    <tr>\n",
       "      <th>66.0</th>\n",
       "      <td>3.900000</td>\n",
       "    </tr>\n",
       "  </tbody>\n",
       "</table>\n",
       "<p>77 rows × 1 columns</p>\n",
       "</div>"
      ],
      "text/plain": [
       "                            mean\n",
       "biryani_available time          \n",
       "no                18.0  4.000000\n",
       "                  19.0  4.050000\n",
       "                  20.0  4.376923\n",
       "                  21.0  4.166667\n",
       "                  22.0  4.275000\n",
       "...                          ...\n",
       "yes               55.0  3.750000\n",
       "                  61.0  3.900000\n",
       "                  63.0  4.200000\n",
       "                  64.0  2.100000\n",
       "                  66.0  3.900000\n",
       "\n",
       "[77 rows x 1 columns]"
      ]
     },
     "execution_count": 86,
     "metadata": {},
     "output_type": "execute_result"
    }
   ],
   "source": [
    "table = pd.pivot_table(data,index=['biryani_available','time'],values='rating',aggfunc = {np.mean})\n",
    "table\n",
    "\n"
   ]
  },
  {
   "cell_type": "code",
   "execution_count": 87,
   "id": "e37e8424",
   "metadata": {},
   "outputs": [
    {
     "data": {
      "image/png": "[encoded data removed]",
      "text/plain": [
       "<Figure size 401.625x360 with 6 Axes>"
      ]
     },
     "metadata": {},
     "output_type": "display_data"
    }
   ],
   "source": [
    "sns.pairplot(data=data,hue ='rating')\n",
    "plt.show()"
   ]
  },
  {
   "cell_type": "code",
   "execution_count": 88,
   "id": "10be2a36",
   "metadata": {
    "scrolled": true
   },
   "outputs": [
    {
     "data": {
      "image/png": "[encoded data removed]",
      "text/plain": [
       "<Figure size 620.125x540 with 12 Axes>"
      ]
     },
     "metadata": {},
     "output_type": "display_data"
    }
   ],
   "source": [
    "sns.pairplot(data=data,hue ='Italian_available')\n",
    "plt.show()"
   ]
  },
  {
   "cell_type": "markdown",
   "id": "50faa440",
   "metadata": {},
   "source": [
    "Observation : from the above graph we can say most of the restaurants done serve Italian food."
   ]
  },
  {
   "cell_type": "code",
   "execution_count": 89,
   "id": "5875b302",
   "metadata": {},
   "outputs": [
    {
     "data": {
      "image/png": "[encoded data removed]",
      "text/plain": [
       "<Figure size 360x360 with 1 Axes>"
      ]
     },
     "metadata": {},
     "output_type": "display_data"
    }
   ],
   "source": [
    "sns.relplot(data['rating'],data['price for Two'])\n",
    "plt.show()"
   ]
  },
  {
   "cell_type": "markdown",
   "id": "0ef4f1d5",
   "metadata": {},
   "source": [
    "Observation: The above graph representing a visuals of rating and price of food for two ."
   ]
  },
  {
   "cell_type": "code",
   "execution_count": 78,
   "id": "640940c7",
   "metadata": {},
   "outputs": [
    {
     "data": {
      "image/png": "[encoded data removed]",
      "text/plain": [
       "<Figure size 576x576 with 1 Axes>"
      ]
     },
     "metadata": {},
     "output_type": "display_data"
    }
   ],
   "source": [
    "plt.figure(figsize=(8,8))\n",
    "sns.set_style('white')\n",
    "sns.barplot(x ='Continental_available',y='rating',data = data)\n",
    "plt.ylim(1)\n",
    "plt.grid(True)\n",
    "\n",
    "plt.show()"
   ]
  },
  {
   "cell_type": "markdown",
   "id": "8daf08d6",
   "metadata": {},
   "source": [
    "interpretation: from the above plot we can say that most of the restaurants serve continental food but can't be sure as we can see the margin both 'yes' & 'no' have a slight margin.\n",
    "yes-3.7.\n",
    "no-3.6."
   ]
  },
  {
   "cell_type": "code",
   "execution_count": 90,
   "id": "efda07c8",
   "metadata": {},
   "outputs": [
    {
     "data": {
      "image/png": "[encoded data removed]",
      "text/plain": [
       "<Figure size 432x288 with 1 Axes>"
      ]
     },
     "metadata": {},
     "output_type": "display_data"
    }
   ],
   "source": [
    "sns.regplot(data['time'],data['price for Two'])\n",
    "plt.show()"
   ]
  },
  {
   "cell_type": "markdown",
   "id": "a3f66653",
   "metadata": {},
   "source": [
    "Observation: from the above visuals we can see the change in price for two depending upon the time there is a huge margin ."
   ]
  },
  {
   "cell_type": "code",
   "execution_count": 91,
   "id": "945cf9e6",
   "metadata": {},
   "outputs": [
    {
     "data": {
      "text/plain": [
       "<seaborn.axisgrid.FacetGrid at 0x7f8eff12b310>"
      ]
     },
     "execution_count": 91,
     "metadata": {},
     "output_type": "execute_result"
    },
    {
     "data": {
      "image/png": "[encoded data removed]",
      "text/plain": [
       "<Figure size 360x360 with 1 Axes>"
      ]
     },
     "metadata": {},
     "output_type": "display_data"
    }
   ],
   "source": [
    "sns.relplot(data['time'],data['rating'])"
   ]
  },
  {
   "cell_type": "markdown",
   "id": "4a2c03d3",
   "metadata": {},
   "source": [
    "Observation: From the above graph we can see the most of the plot ends at 4.0 above."
   ]
  },
  {
   "cell_type": "code",
   "execution_count": 92,
   "id": "c2abd27b",
   "metadata": {},
   "outputs": [
    {
     "data": {
      "image/png": "[encoded data removed]",
      "text/plain": [
       "<Figure size 432x288 with 1 Axes>"
      ]
     },
     "metadata": {},
     "output_type": "display_data"
    }
   ],
   "source": [
    "sns.boxplot(x = 'rating',y = 'biryani_available',data= data)\n",
    "plt.show()"
   ]
  },
  {
   "cell_type": "markdown",
   "id": "ff332c6c",
   "metadata": {},
   "source": [
    "Observation: compared to ratings No is high"
   ]
  },
  {
   "cell_type": "markdown",
   "id": "22fdf5b4",
   "metadata": {},
   "source": [
    "# 1)TOP 10 RESTAURANTS BASED ON HIGHEST RATING."
   ]
  },
  {
   "cell_type": "code",
   "execution_count": 93,
   "id": "8b8c76de",
   "metadata": {
    "scrolled": false
   },
   "outputs": [
    {
     "data": {
      "image/png": "[encoded data removed]",
      "text/plain": [
       "<Figure size 432x288 with 1 Axes>"
      ]
     },
     "metadata": {},
     "output_type": "display_data"
    }
   ],
   "source": [
    "data.groupby(['Restaurant'])['rating'].mean().sort_values(ascending = False)[:10].plot(kind = 'barh',color ='r')\n",
    "plt.show()"
   ]
  },
  {
   "cell_type": "markdown",
   "id": "62765b9e",
   "metadata": {},
   "source": [
    "Observation: From the above graph we can say that there is only slight margin for top 10 restaurant ."
   ]
  },
  {
   "cell_type": "markdown",
   "id": "c69b29ef",
   "metadata": {},
   "source": [
    "# 2) price for Two members  in different RESTAURANT."
   ]
  },
  {
   "cell_type": "code",
   "execution_count": 94,
   "id": "2c1f421f",
   "metadata": {},
   "outputs": [
    {
     "data": {
      "image/png": "[encoded data removed]",
      "text/plain": [
       "<Figure size 432x576 with 1 Axes>"
      ]
     },
     "metadata": {},
     "output_type": "display_data"
    }
   ],
   "source": [
    "plt.figure(figsize = (6,8))\n",
    "\n",
    "data.groupby(['Restaurant'])['price for Two'].mean().sort_values(ascending = False)[:10].plot(kind = 'pie',\n",
    "                                                                                           autopct = '%.2f%%')\n",
    "plt.show()"
   ]
  },
  {
   "cell_type": "markdown",
   "id": "d89fb8ad",
   "metadata": {},
   "source": [
    "Observation: 1) From the below graph we can say ITC Kohenur is highest 12.20% .\n",
    "The average of the Price for Two(people)  that standby this Restaurants are high compared with other restaurants ."
   ]
  },
  {
   "cell_type": "markdown",
   "id": "ed884a20",
   "metadata": {},
   "source": [
    "# 3) Mostly available Cuisine."
   ]
  },
  {
   "cell_type": "code",
   "execution_count": 95,
   "id": "37eaea70",
   "metadata": {},
   "outputs": [
    {
     "data": {
      "image/png": "[encoded data removed]",
      "text/plain": [
       "<Figure size 576x432 with 1 Axes>"
      ]
     },
     "metadata": {},
     "output_type": "display_data"
    }
   ],
   "source": [
    "plt.figure(figsize=(8,6))\n",
    "sns.set_style('dark')\n",
    "pd.Series(data['cuisine'].value_counts(ascending = False)[:20].plot(kind = 'barh',color = 'darkblue'))\n",
    "plt.title ('Most available cuisine',color = 'k')\n",
    "plt.xlabel('restaraunt',color = 'k')\n",
    "plt.ylabel('cuisine',color = 'k')\n",
    "plt.show()"
   ]
  },
  {
   "cell_type": "markdown",
   "id": "85cafe70",
   "metadata": {},
   "source": [
    "Observation: From this graph we can see NorthIndian food is most available food in Hyderabad location."
   ]
  },
  {
   "cell_type": "markdown",
   "id": "dd69671c",
   "metadata": {},
   "source": [
    "# 4) Outlets of the Restaurants ."
   ]
  },
  {
   "cell_type": "code",
   "execution_count": 96,
   "id": "04428540",
   "metadata": {},
   "outputs": [
    {
     "data": {
      "image/png": "[encoded data removed]",
      "text/plain": [
       "<Figure size 576x648 with 1 Axes>"
      ]
     },
     "metadata": {},
     "output_type": "display_data"
    }
   ],
   "source": [
    "plt.figure(figsize= (8,9))\n",
    "sns.color_palette('gray')\n",
    "sns.set_style('white')\n",
    "pd.Series(data['Restaurant'].value_counts(ascending = False)[:20].plot(kind = 'barh',color = 'grey'))\n",
    "plt.title('Most appeared Restaraunt',color = 'k')\n",
    "plt.xlabel('Apperances',color = 'k')\n",
    "plt.ylabel('Restaraunt',color = 'k')\n",
    "plt.show()"
   ]
  },
  {
   "cell_type": "markdown",
   "id": "b696579f",
   "metadata": {},
   "source": [
    "Observation: we can say that Shree santosh Family Dhaba occurances is highest."
   ]
  },
  {
   "cell_type": "markdown",
   "id": "7a722c51",
   "metadata": {},
   "source": [
    "# 5) Highest Ratings. "
   ]
  },
  {
   "cell_type": "code",
   "execution_count": 97,
   "id": "ce19a35d",
   "metadata": {},
   "outputs": [
    {
     "data": {
      "image/png": "[encoded data removed]",
      "text/plain": [
       "<Figure size 576x432 with 1 Axes>"
      ]
     },
     "metadata": {},
     "output_type": "display_data"
    }
   ],
   "source": [
    "plt.figure(figsize = (8,6))\n",
    "pd.Series(data['rating'].value_counts(ascending = False).head(10).plot(kind = 'pie',autopct = '%.2f%%'))\n",
    "plt.show()"
   ]
  },
  {
   "cell_type": "markdown",
   "id": "4c397503",
   "metadata": {},
   "source": [
    "Observation: 4.0 is marked highest with 21.26%. "
   ]
  },
  {
   "cell_type": "code",
   "execution_count": 98,
   "id": "1f9e97b0",
   "metadata": {},
   "outputs": [
    {
     "data": {
      "image/png": "[encoded data removed]",
      "text/plain": [
       "<Figure size 576x432 with 2 Axes>"
      ]
     },
     "metadata": {},
     "output_type": "display_data"
    }
   ],
   "source": [
    "plt.figure(figsize = (8,6))\n",
    "SWIGGY = data.corr()\n",
    "sns.heatmap(SWIGGY,annot=True)\n",
    "plt.show()"
   ]
  },
  {
   "cell_type": "markdown",
   "id": "88b747ad",
   "metadata": {},
   "source": [
    "Observation: rating and time ends up at -0.2 which is low.\n",
    "    price for two with rating marked at 0.021 along with 0.27 in time which is a positive marking.\n",
    "    as we see the time ,price for two & rating marks at 1 self."
   ]
  },
  {
   "cell_type": "code",
   "execution_count": null,
   "id": "4b0ea3ae",
   "metadata": {},
   "outputs": [],
   "source": []
  },
  {
   "cell_type": "code",
   "execution_count": null,
   "id": "2859f8b3",
   "metadata": {},
   "outputs": [],
   "source": []
  },
  {
   "cell_type": "code",
   "execution_count": null,
   "id": "6cc0d5fe",
   "metadata": {},
   "outputs": [],
   "source": []
  },
  {
   "cell_type": "code",
   "execution_count": null,
   "id": "b0f8c731",
   "metadata": {},
   "outputs": [],
   "source": []
  },
  {
   "cell_type": "code",
   "execution_count": null,
   "id": "a12cbaa0",
   "metadata": {},
   "outputs": [],
   "source": []
  },
  {
   "cell_type": "code",
   "execution_count": null,
   "id": "42b8278e",
   "metadata": {},
   "outputs": [],
   "source": []
  },
  {
   "cell_type": "code",
   "execution_count": null,
   "id": "03b8b1fc",
   "metadata": {},
   "outputs": [],
   "source": []
  },
  {
   "cell_type": "code",
   "execution_count": null,
   "id": "85261fb5",
   "metadata": {},
   "outputs": [],
   "source": []
  },
  {
   "cell_type": "code",
   "execution_count": null,
   "id": "a879db90",
   "metadata": {},
   "outputs": [],
   "source": []
  },
  {
   "cell_type": "code",
   "execution_count": null,
   "id": "4c78c7ef",
   "metadata": {},
   "outputs": [],
   "source": []
  },
  {
   "cell_type": "code",
   "execution_count": null,
   "id": "e6aa8faf",
   "metadata": {},
   "outputs": [],
   "source": []
  },
  {
   "cell_type": "code",
   "execution_count": null,
   "id": "64a40723",
   "metadata": {},
   "outputs": [],
   "source": []
  },
  {
   "cell_type": "code",
   "execution_count": null,
   "id": "57000fb6",
   "metadata": {},
   "outputs": [],
   "source": []
  },
  {
   "cell_type": "code",
   "execution_count": null,
   "id": "33d9405e",
   "metadata": {},
   "outputs": [],
   "source": []
  },
  {
   "cell_type": "code",
   "execution_count": null,
   "id": "b0f20e60",
   "metadata": {},
   "outputs": [],
   "source": []
  },
  {
   "cell_type": "code",
   "execution_count": null,
   "id": "90c93f4c",
   "metadata": {},
   "outputs": [],
   "source": []
  },
  {
   "cell_type": "code",
   "execution_count": null,
   "id": "af835cb7",
   "metadata": {},
   "outputs": [],
   "source": []
  },
  {
   "cell_type": "code",
   "execution_count": null,
   "id": "22503e78",
   "metadata": {},
   "outputs": [],
   "source": []
  },
  {
   "cell_type": "code",
   "execution_count": null,
   "id": "ecb7685a",
   "metadata": {},
   "outputs": [],
   "source": []
  },
  {
   "cell_type": "code",
   "execution_count": null,
   "id": "4155ebad",
   "metadata": {},
   "outputs": [],
   "source": []
  },
  {
   "cell_type": "code",
   "execution_count": null,
   "id": "dd8f4dc3",
   "metadata": {},
   "outputs": [],
   "source": []
  },
  {
   "cell_type": "code",
   "execution_count": null,
   "id": "905575ad",
   "metadata": {},
   "outputs": [],
   "source": []
  },
  {
   "cell_type": "code",
   "execution_count": null,
   "id": "8e6ea9b2",
   "metadata": {},
   "outputs": [],
   "source": []
  },
  {
   "cell_type": "code",
   "execution_count": null,
   "id": "5c36e6f0",
   "metadata": {},
   "outputs": [],
   "source": []
  },
  {
   "cell_type": "code",
   "execution_count": null,
   "id": "ad16de9b",
   "metadata": {},
   "outputs": [],
   "source": []
  },
  {
   "cell_type": "code",
   "execution_count": null,
   "id": "fc94e672",
   "metadata": {},
   "outputs": [],
   "source": []
  },
  {
   "cell_type": "code",
   "execution_count": null,
   "id": "98d9c6e3",
   "metadata": {},
   "outputs": [],
   "source": []
  },
  {
   "cell_type": "code",
   "execution_count": null,
   "id": "6992f65d",
   "metadata": {},
   "outputs": [],
   "source": []
  },
  {
   "cell_type": "code",
   "execution_count": null,
   "id": "21f5bef6",
   "metadata": {},
   "outputs": [],
   "source": []
  },
  {
   "cell_type": "code",
   "execution_count": null,
   "id": "b51c2b7a",
   "metadata": {},
   "outputs": [],
   "source": []
  },
  {
   "cell_type": "code",
   "execution_count": null,
   "id": "2b969373",
   "metadata": {},
   "outputs": [],
   "source": []
  },
  {
   "cell_type": "code",
   "execution_count": null,
   "id": "19147295",
   "metadata": {},
   "outputs": [],
   "source": []
  },
  {
   "cell_type": "code",
   "execution_count": null,
   "id": "f2ceb641",
   "metadata": {},
   "outputs": [],
   "source": []
  },
  {
   "cell_type": "code",
   "execution_count": null,
   "id": "6c097557",
   "metadata": {},
   "outputs": [],
   "source": []
  },
  {
   "cell_type": "code",
   "execution_count": null,
   "id": "1a09b3ea",
   "metadata": {},
   "outputs": [],
   "source": []
  },
  {
   "cell_type": "code",
   "execution_count": null,
   "id": "0ef9fc53",
   "metadata": {},
   "outputs": [],
   "source": []
  },
  {
   "cell_type": "code",
   "execution_count": null,
   "id": "94ec9f2b",
   "metadata": {},
   "outputs": [],
   "source": []
  },
  {
   "cell_type": "code",
   "execution_count": null,
   "id": "3fc45d21",
   "metadata": {},
   "outputs": [],
   "source": []
  },
  {
   "cell_type": "code",
   "execution_count": null,
   "id": "fd307336",
   "metadata": {},
   "outputs": [],
   "source": []
  },
  {
   "cell_type": "code",
   "execution_count": null,
   "id": "c33dbde7",
   "metadata": {},
   "outputs": [],
   "source": []
  },
  {
   "cell_type": "code",
   "execution_count": null,
   "id": "c221d3a7",
   "metadata": {},
   "outputs": [],
   "source": []
  },
  {
   "cell_type": "code",
   "execution_count": null,
   "id": "967170a3",
   "metadata": {},
   "outputs": [],
   "source": []
  },
  {
   "cell_type": "code",
   "execution_count": null,
   "id": "45ff00dd",
   "metadata": {},
   "outputs": [],
   "source": []
  },
  {
   "cell_type": "code",
   "execution_count": null,
   "id": "a2951fc4",
   "metadata": {},
   "outputs": [],
   "source": []
  },
  {
   "cell_type": "code",
   "execution_count": null,
   "id": "51fd97d9",
   "metadata": {},
   "outputs": [],
   "source": []
  },
  {
   "cell_type": "code",
   "execution_count": null,
   "id": "dcac3ce8",
   "metadata": {},
   "outputs": [],
   "source": []
  },
  {
   "cell_type": "code",
   "execution_count": null,
   "id": "f8163bdb",
   "metadata": {},
   "outputs": [],
   "source": []
  },
  {
   "cell_type": "code",
   "execution_count": null,
   "id": "5eb852af",
   "metadata": {},
   "outputs": [],
   "source": []
  },
  {
   "cell_type": "code",
   "execution_count": null,
   "id": "6795e7af",
   "metadata": {},
   "outputs": [],
   "source": []
  },
  {
   "cell_type": "code",
   "execution_count": null,
   "id": "b4f2fb45",
   "metadata": {},
   "outputs": [],
   "source": []
  },
  {
   "cell_type": "code",
   "execution_count": null,
   "id": "e4f8bf60",
   "metadata": {},
   "outputs": [],
   "source": []
  },
  {
   "cell_type": "code",
   "execution_count": null,
   "id": "85aafc63",
   "metadata": {},
   "outputs": [],
   "source": []
  },
  {
   "cell_type": "code",
   "execution_count": null,
   "id": "9bfae62f",
   "metadata": {},
   "outputs": [],
   "source": []
  },
  {
   "cell_type": "code",
   "execution_count": null,
   "id": "b14d708d",
   "metadata": {},
   "outputs": [],
   "source": []
  },
  {
   "cell_type": "code",
   "execution_count": null,
   "id": "b8cfaa93",
   "metadata": {},
   "outputs": [],
   "source": []
  },
  {
   "cell_type": "code",
   "execution_count": null,
   "id": "0e69b11a",
   "metadata": {},
   "outputs": [],
   "source": []
  },
  {
   "cell_type": "code",
   "execution_count": null,
   "id": "4994d69d",
   "metadata": {},
   "outputs": [],
   "source": []
  },
  {
   "cell_type": "code",
   "execution_count": null,
   "id": "7ccc78de",
   "metadata": {},
   "outputs": [],
   "source": []
  },
  {
   "cell_type": "code",
   "execution_count": null,
   "id": "455d6078",
   "metadata": {},
   "outputs": [],
   "source": []
  },
  {
   "cell_type": "code",
   "execution_count": null,
   "id": "07257587",
   "metadata": {},
   "outputs": [],
   "source": []
  },
  {
   "cell_type": "code",
   "execution_count": null,
   "id": "d96b8e82",
   "metadata": {},
   "outputs": [],
   "source": []
  },
  {
   "cell_type": "code",
   "execution_count": null,
   "id": "a44e0577",
   "metadata": {},
   "outputs": [],
   "source": []
  },
  {
   "cell_type": "code",
   "execution_count": null,
   "id": "86447bc1",
   "metadata": {},
   "outputs": [],
   "source": []
  },
  {
   "cell_type": "code",
   "execution_count": null,
   "id": "1ea10cf4",
   "metadata": {},
   "outputs": [],
   "source": []
  },
  {
   "cell_type": "code",
   "execution_count": null,
   "id": "f3194df0",
   "metadata": {},
   "outputs": [],
   "source": []
  },
  {
   "cell_type": "code",
   "execution_count": null,
   "id": "acf2adc7",
   "metadata": {},
   "outputs": [],
   "source": []
  },
  {
   "cell_type": "code",
   "execution_count": null,
   "id": "3e1488de",
   "metadata": {},
   "outputs": [],
   "source": []
  },
  {
   "cell_type": "code",
   "execution_count": null,
   "id": "c476fcfd",
   "metadata": {},
   "outputs": [],
   "source": []
  },
  {
   "cell_type": "code",
   "execution_count": null,
   "id": "9d4f96f5",
   "metadata": {},
   "outputs": [],
   "source": []
  },
  {
   "cell_type": "code",
   "execution_count": null,
   "id": "1d7eedcf",
   "metadata": {},
   "outputs": [],
   "source": []
  },
  {
   "cell_type": "code",
   "execution_count": null,
   "id": "f9ed1adc",
   "metadata": {},
   "outputs": [],
   "source": []
  },
  {
   "cell_type": "code",
   "execution_count": null,
   "id": "fe7afa10",
   "metadata": {},
   "outputs": [],
   "source": []
  },
  {
   "cell_type": "code",
   "execution_count": null,
   "id": "ac6d48b2",
   "metadata": {},
   "outputs": [],
   "source": []
  },
  {
   "cell_type": "code",
   "execution_count": null,
   "id": "cf895c25",
   "metadata": {},
   "outputs": [],
   "source": []
  },
  {
   "cell_type": "code",
   "execution_count": null,
   "id": "55f3f04c",
   "metadata": {},
   "outputs": [],
   "source": []
  },
  {
   "cell_type": "code",
   "execution_count": null,
   "id": "2652f42a",
   "metadata": {},
   "outputs": [],
   "source": []
  },
  {
   "cell_type": "code",
   "execution_count": null,
   "id": "798d196c",
   "metadata": {},
   "outputs": [],
   "source": []
  },
  {
   "cell_type": "code",
   "execution_count": null,
   "id": "e159f96e",
   "metadata": {},
   "outputs": [],
   "source": []
  },
  {
   "cell_type": "code",
   "execution_count": null,
   "id": "632fc479",
   "metadata": {},
   "outputs": [],
   "source": []
  },
  {
   "cell_type": "code",
   "execution_count": null,
   "id": "f64bfc9e",
   "metadata": {},
   "outputs": [],
   "source": []
  },
  {
   "cell_type": "code",
   "execution_count": null,
   "id": "e0727329",
   "metadata": {},
   "outputs": [],
   "source": []
  },
  {
   "cell_type": "code",
   "execution_count": null,
   "id": "0d65fe51",
   "metadata": {},
   "outputs": [],
   "source": []
  },
  {
   "cell_type": "code",
   "execution_count": null,
   "id": "23f111df",
   "metadata": {},
   "outputs": [],
   "source": []
  },
  {
   "cell_type": "code",
   "execution_count": null,
   "id": "8658b2ad",
   "metadata": {},
   "outputs": [],
   "source": []
  },
  {
   "cell_type": "code",
   "execution_count": null,
   "id": "058eb508",
   "metadata": {},
   "outputs": [],
   "source": []
  },
  {
   "cell_type": "code",
   "execution_count": null,
   "id": "6ba9c523",
   "metadata": {},
   "outputs": [],
   "source": []
  },
  {
   "cell_type": "code",
   "execution_count": null,
   "id": "8b11a773",
   "metadata": {},
   "outputs": [],
   "source": []
  },
  {
   "cell_type": "code",
   "execution_count": null,
   "id": "95523bc4",
   "metadata": {},
   "outputs": [],
   "source": []
  },
  {
   "cell_type": "code",
   "execution_count": null,
   "id": "74010df5",
   "metadata": {},
   "outputs": [],
   "source": []
  },
  {
   "cell_type": "code",
   "execution_count": null,
   "id": "ea5c3bd3",
   "metadata": {},
   "outputs": [],
   "source": []
  },
  {
   "cell_type": "code",
   "execution_count": null,
   "id": "a2924707",
   "metadata": {},
   "outputs": [],
   "source": []
  },
  {
   "cell_type": "code",
   "execution_count": null,
   "id": "4d566a3b",
   "metadata": {},
   "outputs": [],
   "source": []
  },
  {
   "cell_type": "code",
   "execution_count": null,
   "id": "fc90c45f",
   "metadata": {},
   "outputs": [],
   "source": []
  },
  {
   "cell_type": "code",
   "execution_count": null,
   "id": "b75917d3",
   "metadata": {},
   "outputs": [],
   "source": []
  },
  {
   "cell_type": "code",
   "execution_count": null,
   "id": "666b3485",
   "metadata": {},
   "outputs": [],
   "source": []
  },
  {
   "cell_type": "code",
   "execution_count": null,
   "id": "7ab2a968",
   "metadata": {},
   "outputs": [],
   "source": []
  },
  {
   "cell_type": "code",
   "execution_count": null,
   "id": "ae909486",
   "metadata": {},
   "outputs": [],
   "source": []
  },
  {
   "cell_type": "code",
   "execution_count": null,
   "id": "d66b4e28",
   "metadata": {},
   "outputs": [],
   "source": []
  },
  {
   "cell_type": "code",
   "execution_count": null,
   "id": "d94e2bff",
   "metadata": {},
   "outputs": [],
   "source": []
  },
  {
   "cell_type": "code",
   "execution_count": null,
   "id": "53b53535",
   "metadata": {},
   "outputs": [],
   "source": []
  },
  {
   "cell_type": "code",
   "execution_count": null,
   "id": "6ee71242",
   "metadata": {},
   "outputs": [],
   "source": []
  },
  {
   "cell_type": "code",
   "execution_count": null,
   "id": "3b37ae5f",
   "metadata": {},
   "outputs": [],
   "source": []
  },
  {
   "cell_type": "code",
   "execution_count": null,
   "id": "2fd51072",
   "metadata": {},
   "outputs": [],
   "source": []
  },
  {
   "cell_type": "code",
   "execution_count": null,
   "id": "97709aff",
   "metadata": {},
   "outputs": [],
   "source": []
  },
  {
   "cell_type": "code",
   "execution_count": null,
   "id": "5db6d0b4",
   "metadata": {},
   "outputs": [],
   "source": []
  },
  {
   "cell_type": "code",
   "execution_count": null,
   "id": "86377678",
   "metadata": {},
   "outputs": [],
   "source": []
  },
  {
   "cell_type": "code",
   "execution_count": null,
   "id": "12e94e58",
   "metadata": {},
   "outputs": [],
   "source": []
  },
  {
   "cell_type": "code",
   "execution_count": null,
   "id": "0c5c274e",
   "metadata": {},
   "outputs": [],
   "source": []
  }
 ],
 "metadata": {
  "kernelspec": {
   "display_name": "Python 3",
   "language": "python",
   "name": "python3"
  },
  "language_info": {
   "codemirror_mode": {
    "name": "ipython",
    "version": 3
   },
   "file_extension": ".py",
   "mimetype": "text/x-python",
   "name": "python",
   "nbconvert_exporter": "python",
   "pygments_lexer": "ipython3",
   "version": "3.8.8"
  }
 },
 "nbformat": 4,
 "nbformat_minor": 5
}
